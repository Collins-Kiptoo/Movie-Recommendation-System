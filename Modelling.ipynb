{
 "cells": [
  {
   "cell_type": "markdown",
   "metadata": {},
   "source": [
    "## Modelling"
   ]
  },
  {
   "cell_type": "code",
   "execution_count": 3,
   "metadata": {},
   "outputs": [],
   "source": [
    "import pandas as pd"
   ]
  },
  {
   "cell_type": "code",
   "execution_count": 4,
   "metadata": {
    "scrolled": true
   },
   "outputs": [
    {
     "data": {
      "text/html": [
       "<div>\n",
       "<style scoped>\n",
       "    .dataframe tbody tr th:only-of-type {\n",
       "        vertical-align: middle;\n",
       "    }\n",
       "\n",
       "    .dataframe tbody tr th {\n",
       "        vertical-align: top;\n",
       "    }\n",
       "\n",
       "    .dataframe thead th {\n",
       "        text-align: right;\n",
       "    }\n",
       "</style>\n",
       "<table border=\"1\" class=\"dataframe\">\n",
       "  <thead>\n",
       "    <tr style=\"text-align: right;\">\n",
       "      <th></th>\n",
       "      <th>Anime_id</th>\n",
       "      <th>Title</th>\n",
       "      <th>Genre</th>\n",
       "      <th>Synopsis</th>\n",
       "      <th>Type</th>\n",
       "      <th>Producer</th>\n",
       "      <th>Studio</th>\n",
       "      <th>Rating</th>\n",
       "      <th>ScoredBy</th>\n",
       "      <th>Popularity</th>\n",
       "      <th>Members</th>\n",
       "      <th>Episodes</th>\n",
       "      <th>Source</th>\n",
       "      <th>Aired</th>\n",
       "    </tr>\n",
       "  </thead>\n",
       "  <tbody>\n",
       "    <tr>\n",
       "      <th>0</th>\n",
       "      <td>1</td>\n",
       "      <td>Cowboy Bebop</td>\n",
       "      <td>['Action', 'Adventure', 'Comedy', 'Drama', 'Sc...</td>\n",
       "      <td>In the year 2071, humanity has colonized sever...</td>\n",
       "      <td>TV</td>\n",
       "      <td>['Bandai Visual']</td>\n",
       "      <td>['Sunrise']</td>\n",
       "      <td>8.81</td>\n",
       "      <td>363889.0</td>\n",
       "      <td>39.0</td>\n",
       "      <td>704490.0</td>\n",
       "      <td>26.0</td>\n",
       "      <td>Original</td>\n",
       "      <td>Apr 3, 1998 to Apr 24, 1999</td>\n",
       "    </tr>\n",
       "    <tr>\n",
       "      <th>1</th>\n",
       "      <td>5</td>\n",
       "      <td>Cowboy Bebop Tengoku no Tobira</td>\n",
       "      <td>['Action', 'Space', 'Drama', 'Mystery', 'Sci-Fi']</td>\n",
       "      <td>Another day, another bounty—such is the life o...</td>\n",
       "      <td>Movie</td>\n",
       "      <td>['Sunrise', 'Bandai Visual']</td>\n",
       "      <td>['Bones']</td>\n",
       "      <td>8.41</td>\n",
       "      <td>111187.0</td>\n",
       "      <td>475.0</td>\n",
       "      <td>179899.0</td>\n",
       "      <td>1.0</td>\n",
       "      <td>Original</td>\n",
       "      <td>Sep 1, 2001</td>\n",
       "    </tr>\n",
       "    <tr>\n",
       "      <th>2</th>\n",
       "      <td>6</td>\n",
       "      <td>Trigun</td>\n",
       "      <td>['Action', 'Sci-Fi', 'Adventure', 'Comedy', 'D...</td>\n",
       "      <td>Vash the Stampede is the man with a $$60,000,0...</td>\n",
       "      <td>TV</td>\n",
       "      <td>['Victor Entertainment']</td>\n",
       "      <td>['Madhouse']</td>\n",
       "      <td>8.31</td>\n",
       "      <td>197451.0</td>\n",
       "      <td>158.0</td>\n",
       "      <td>372709.0</td>\n",
       "      <td>26.0</td>\n",
       "      <td>Manga</td>\n",
       "      <td>Apr 1, 1998 to Sep 30, 1998</td>\n",
       "    </tr>\n",
       "    <tr>\n",
       "      <th>3</th>\n",
       "      <td>7</td>\n",
       "      <td>Witch Hunter Robin</td>\n",
       "      <td>['Action', 'Magic', 'Police', 'Supernatural', ...</td>\n",
       "      <td>Witches are individuals with special powers li...</td>\n",
       "      <td>TV</td>\n",
       "      <td>['Bandai Visual']</td>\n",
       "      <td>['Sunrise']</td>\n",
       "      <td>7.34</td>\n",
       "      <td>31875.0</td>\n",
       "      <td>1278.0</td>\n",
       "      <td>74889.0</td>\n",
       "      <td>26.0</td>\n",
       "      <td>Original</td>\n",
       "      <td>Jul 2, 2002 to Dec 24, 2002</td>\n",
       "    </tr>\n",
       "    <tr>\n",
       "      <th>4</th>\n",
       "      <td>8</td>\n",
       "      <td>Bouken Ou Beet</td>\n",
       "      <td>['Adventure', 'Fantasy', 'Shounen', 'Supernatu...</td>\n",
       "      <td>It is the dark century and the people are suff...</td>\n",
       "      <td>TV</td>\n",
       "      <td>NaN</td>\n",
       "      <td>['Toei Animation']</td>\n",
       "      <td>7.04</td>\n",
       "      <td>4757.0</td>\n",
       "      <td>3968.0</td>\n",
       "      <td>11247.0</td>\n",
       "      <td>52.0</td>\n",
       "      <td>Manga</td>\n",
       "      <td>Sep 30, 2004 to Sep 29, 2005</td>\n",
       "    </tr>\n",
       "  </tbody>\n",
       "</table>\n",
       "</div>"
      ],
      "text/plain": [
       "   Anime_id                           Title  \\\n",
       "0         1                    Cowboy Bebop   \n",
       "1         5  Cowboy Bebop Tengoku no Tobira   \n",
       "2         6                          Trigun   \n",
       "3         7              Witch Hunter Robin   \n",
       "4         8                  Bouken Ou Beet   \n",
       "\n",
       "                                               Genre  \\\n",
       "0  ['Action', 'Adventure', 'Comedy', 'Drama', 'Sc...   \n",
       "1  ['Action', 'Space', 'Drama', 'Mystery', 'Sci-Fi']   \n",
       "2  ['Action', 'Sci-Fi', 'Adventure', 'Comedy', 'D...   \n",
       "3  ['Action', 'Magic', 'Police', 'Supernatural', ...   \n",
       "4  ['Adventure', 'Fantasy', 'Shounen', 'Supernatu...   \n",
       "\n",
       "                                            Synopsis   Type  \\\n",
       "0  In the year 2071, humanity has colonized sever...     TV   \n",
       "1  Another day, another bounty—such is the life o...  Movie   \n",
       "2  Vash the Stampede is the man with a $$60,000,0...     TV   \n",
       "3  Witches are individuals with special powers li...     TV   \n",
       "4  It is the dark century and the people are suff...     TV   \n",
       "\n",
       "                       Producer              Studio  Rating  ScoredBy  \\\n",
       "0             ['Bandai Visual']         ['Sunrise']    8.81  363889.0   \n",
       "1  ['Sunrise', 'Bandai Visual']           ['Bones']    8.41  111187.0   \n",
       "2      ['Victor Entertainment']        ['Madhouse']    8.31  197451.0   \n",
       "3             ['Bandai Visual']         ['Sunrise']    7.34   31875.0   \n",
       "4                           NaN  ['Toei Animation']    7.04    4757.0   \n",
       "\n",
       "   Popularity   Members  Episodes    Source                         Aired  \n",
       "0        39.0  704490.0      26.0  Original   Apr 3, 1998 to Apr 24, 1999  \n",
       "1       475.0  179899.0       1.0  Original                   Sep 1, 2001  \n",
       "2       158.0  372709.0      26.0     Manga   Apr 1, 1998 to Sep 30, 1998  \n",
       "3      1278.0   74889.0      26.0  Original   Jul 2, 2002 to Dec 24, 2002  \n",
       "4      3968.0   11247.0      52.0     Manga  Sep 30, 2004 to Sep 29, 2005  "
      ]
     },
     "execution_count": 4,
     "metadata": {},
     "output_type": "execute_result"
    }
   ],
   "source": [
    "df = pd.read_csv(\"cleaned_data.csv\")\n",
    "df.head()"
   ]
  },
  {
   "cell_type": "code",
   "execution_count": 5,
   "metadata": {},
   "outputs": [
    {
     "data": {
      "text/plain": [
       "['Requirement already satisfied: scikit-learn in c:\\\\users\\\\hp\\\\documents\\\\anaconda\\\\lib\\\\site-packages (1.1.3)',\n",
       " 'Requirement already satisfied: numpy>=1.17.3 in c:\\\\users\\\\hp\\\\documents\\\\anaconda\\\\lib\\\\site-packages (from scikit-learn) (1.21.5)',\n",
       " 'Requirement already satisfied: scipy>=1.3.2 in c:\\\\users\\\\hp\\\\documents\\\\anaconda\\\\lib\\\\site-packages (from scikit-learn) (1.7.3)',\n",
       " 'Requirement already satisfied: threadpoolctl>=2.0.0 in c:\\\\users\\\\hp\\\\documents\\\\anaconda\\\\lib\\\\site-packages (from scikit-learn) (2.2.0)',\n",
       " 'Requirement already satisfied: joblib>=1.0.0 in c:\\\\users\\\\hp\\\\documents\\\\anaconda\\\\lib\\\\site-packages (from scikit-learn) (1.1.0)']"
      ]
     },
     "execution_count": 5,
     "metadata": {},
     "output_type": "execute_result"
    }
   ],
   "source": [
    "!! pip install scikit-learn"
   ]
  },
  {
   "cell_type": "code",
   "execution_count": 6,
   "metadata": {},
   "outputs": [
    {
     "data": {
      "text/plain": [
       "0"
      ]
     },
     "execution_count": 6,
     "metadata": {},
     "output_type": "execute_result"
    }
   ],
   "source": [
    "df['Synopsis'].isnull().sum()"
   ]
  },
  {
   "cell_type": "code",
   "execution_count": 7,
   "metadata": {},
   "outputs": [],
   "source": [
    "df['Synopsis'] = df['Synopsis'].fillna('')"
   ]
  },
  {
   "cell_type": "code",
   "execution_count": 8,
   "metadata": {},
   "outputs": [
    {
     "data": {
      "text/plain": [
       "(12979, 40034)"
      ]
     },
     "execution_count": 8,
     "metadata": {},
     "output_type": "execute_result"
    }
   ],
   "source": [
    "from sklearn.feature_extraction.text import TfidfVectorizer\n",
    "tfidf = TfidfVectorizer(stop_words='english')\n",
    "\n",
    "tfidf_matrix = tfidf.fit_transform(df['Synopsis'])\n",
    "\n",
    "tfidf_matrix.shape"
   ]
  },
  {
   "cell_type": "code",
   "execution_count": 9,
   "metadata": {},
   "outputs": [
    {
     "data": {
      "text/plain": [
       "array([[1.        , 0.23529586, 0.02127464, ..., 0.02133734, 0.00457067,\n",
       "        0.02050118],\n",
       "       [0.23529586, 1.        , 0.04320112, ..., 0.01628467, 0.01529336,\n",
       "        0.        ],\n",
       "       [0.02127464, 0.04320112, 1.        , ..., 0.00264197, 0.        ,\n",
       "        0.        ],\n",
       "       ...,\n",
       "       [0.02133734, 0.01628467, 0.00264197, ..., 1.        , 0.        ,\n",
       "        0.        ],\n",
       "       [0.00457067, 0.01529336, 0.        , ..., 0.        , 1.        ,\n",
       "        0.        ],\n",
       "       [0.02050118, 0.        , 0.        , ..., 0.        , 0.        ,\n",
       "        1.        ]])"
      ]
     },
     "execution_count": 9,
     "metadata": {},
     "output_type": "execute_result"
    }
   ],
   "source": [
    "from sklearn.metrics.pairwise import linear_kernel\n",
    "\n",
    "cosine_sim = linear_kernel(tfidf_matrix, tfidf_matrix)\n",
    "cosine_sim"
   ]
  },
  {
   "cell_type": "code",
   "execution_count": 10,
   "metadata": {},
   "outputs": [
    {
     "data": {
      "text/plain": [
       "Title\n",
       "Cowboy Bebop                            0\n",
       "Cowboy Bebop Tengoku no Tobira          1\n",
       "Trigun                                  2\n",
       "Witch Hunter Robin                      3\n",
       "Bouken Ou Beet                          4\n",
       "                                    ...  \n",
       "Animagear                           12974\n",
       "Magical Halloween MiracleQuartet    12975\n",
       "Orbital Era                         12976\n",
       "Akai Hana Shiroi Hana               12977\n",
       "Arui Tekoteko                       12978\n",
       "Length: 12979, dtype: int64"
      ]
     },
     "execution_count": 10,
     "metadata": {},
     "output_type": "execute_result"
    }
   ],
   "source": [
    "indices = pd.Series(df.index, index=df['Title']).drop_duplicates()\n",
    "indices"
   ]
  },
  {
   "cell_type": "code",
   "execution_count": 11,
   "metadata": {},
   "outputs": [],
   "source": [
    "def get_recommendations(title, cosine_sim=cosine_sim):\n",
    "    \n",
    "    idx = indices[title]\n",
    "\n",
    "    sim_scores = list(enumerate(cosine_sim[idx]))\n",
    "\n",
    "    sim_scores = sorted(sim_scores, key=lambda x: x[1], reverse=True)\n",
    "\n",
    "    # Get the scores of the 15 most similar movies\n",
    "    sim_scores = sim_scores[1:16]\n",
    "    \n",
    "    anime_indices = [i[0] for i in sim_scores]\n",
    "\n",
    "    return df['Title'].iloc[anime_indices]"
   ]
  },
  {
   "cell_type": "code",
   "execution_count": 12,
   "metadata": {},
   "outputs": [
    {
     "data": {
      "text/plain": [
       "9604                                      Shounen Maid\n",
       "560                                 Kujibiki Unbalance\n",
       "4521                               Suki Desu Suzukikun\n",
       "5520             Kami nomi zo Shiru Sekai 4nin to Idol\n",
       "3283                       KerakuNoOH King of Pleasure\n",
       "10156                              Kushimitama Samurai\n",
       "5869                                      Sankarea OVA\n",
       "2422                             ef A Tale of Memories\n",
       "2816                                         Kiss yori\n",
       "4199              ef A Tale of Memories  Recollections\n",
       "11903                                   Mirai no Mirai\n",
       "740                                         Jyu Oh Sei\n",
       "2669                                    Hatenkou Yuugi\n",
       "4822     Ultraman Kids Haha wo Tazunete 3000man Kounen\n",
       "5113                                Koguma no Korochan\n",
       "Name: Title, dtype: object"
      ]
     },
     "execution_count": 12,
     "metadata": {},
     "output_type": "execute_result"
    }
   ],
   "source": [
    "get_recommendations('Sen to Chihiro no Kamikakushi')"
   ]
  },
  {
   "cell_type": "code",
   "execution_count": 13,
   "metadata": {},
   "outputs": [
    {
     "data": {
      "text/plain": [
       "12407    Seishun Buta Yarou wa Yumemiru Shoujo no Yume ...\n",
       "1254                                      Asatte no Houkou\n",
       "5605                                          Hero Herokun\n",
       "9159                                     Yuujou no Kickoff\n",
       "1731                                                  Pops\n",
       "6486                                          Danchi Tomoo\n",
       "4730                        Fortune Arterial Akai Yakusoku\n",
       "12702                               Tomo Tabidachi no Toki\n",
       "6611                         Kakumeiki Valvrave 2nd Season\n",
       "6473                                        Harisu no Kaze\n",
       "8974                         Gakuen Handsome The Animation\n",
       "10173                                      Gakuen Handsome\n",
       "10787                                           Tejina Shi\n",
       "5429                                    VitaminX Addiction\n",
       "5830                             Yajikita Gakuen Douchuuki\n",
       "Name: Title, dtype: object"
      ]
     },
     "execution_count": 13,
     "metadata": {},
     "output_type": "execute_result"
    }
   ],
   "source": [
    "get_recommendations('Koe no Katachi')"
   ]
  },
  {
   "cell_type": "markdown",
   "metadata": {},
   "source": [
    "Genres, Producer and Studio Based Recommender It goes without saying that the quality of our recommender would be increased with the usage of better metadata. That is exactly what we are going to do in this section. We are going to build a recommender based on the following metadata: the producer, related genres and the studio."
   ]
  },
  {
   "cell_type": "code",
   "execution_count": 14,
   "metadata": {},
   "outputs": [
    {
     "data": {
      "text/html": [
       "<div>\n",
       "<style scoped>\n",
       "    .dataframe tbody tr th:only-of-type {\n",
       "        vertical-align: middle;\n",
       "    }\n",
       "\n",
       "    .dataframe tbody tr th {\n",
       "        vertical-align: top;\n",
       "    }\n",
       "\n",
       "    .dataframe thead th {\n",
       "        text-align: right;\n",
       "    }\n",
       "</style>\n",
       "<table border=\"1\" class=\"dataframe\">\n",
       "  <thead>\n",
       "    <tr style=\"text-align: right;\">\n",
       "      <th></th>\n",
       "      <th>Anime_id</th>\n",
       "      <th>Title</th>\n",
       "      <th>Genre</th>\n",
       "      <th>Synopsis</th>\n",
       "      <th>Type</th>\n",
       "      <th>Producer</th>\n",
       "      <th>Studio</th>\n",
       "      <th>Rating</th>\n",
       "      <th>ScoredBy</th>\n",
       "      <th>Popularity</th>\n",
       "      <th>Members</th>\n",
       "      <th>Episodes</th>\n",
       "      <th>Source</th>\n",
       "      <th>Aired</th>\n",
       "    </tr>\n",
       "  </thead>\n",
       "  <tbody>\n",
       "    <tr>\n",
       "      <th>0</th>\n",
       "      <td>1</td>\n",
       "      <td>Cowboy Bebop</td>\n",
       "      <td>['Action', 'Adventure', 'Comedy', 'Drama', 'Sc...</td>\n",
       "      <td>In the year 2071, humanity has colonized sever...</td>\n",
       "      <td>TV</td>\n",
       "      <td>['Bandai Visual']</td>\n",
       "      <td>['Sunrise']</td>\n",
       "      <td>8.81</td>\n",
       "      <td>363889.0</td>\n",
       "      <td>39.0</td>\n",
       "      <td>704490.0</td>\n",
       "      <td>26.0</td>\n",
       "      <td>Original</td>\n",
       "      <td>Apr 3, 1998 to Apr 24, 1999</td>\n",
       "    </tr>\n",
       "    <tr>\n",
       "      <th>1</th>\n",
       "      <td>5</td>\n",
       "      <td>Cowboy Bebop Tengoku no Tobira</td>\n",
       "      <td>['Action', 'Space', 'Drama', 'Mystery', 'Sci-Fi']</td>\n",
       "      <td>Another day, another bounty—such is the life o...</td>\n",
       "      <td>Movie</td>\n",
       "      <td>['Sunrise', 'Bandai Visual']</td>\n",
       "      <td>['Bones']</td>\n",
       "      <td>8.41</td>\n",
       "      <td>111187.0</td>\n",
       "      <td>475.0</td>\n",
       "      <td>179899.0</td>\n",
       "      <td>1.0</td>\n",
       "      <td>Original</td>\n",
       "      <td>Sep 1, 2001</td>\n",
       "    </tr>\n",
       "  </tbody>\n",
       "</table>\n",
       "</div>"
      ],
      "text/plain": [
       "   Anime_id                           Title  \\\n",
       "0         1                    Cowboy Bebop   \n",
       "1         5  Cowboy Bebop Tengoku no Tobira   \n",
       "\n",
       "                                               Genre  \\\n",
       "0  ['Action', 'Adventure', 'Comedy', 'Drama', 'Sc...   \n",
       "1  ['Action', 'Space', 'Drama', 'Mystery', 'Sci-Fi']   \n",
       "\n",
       "                                            Synopsis   Type  \\\n",
       "0  In the year 2071, humanity has colonized sever...     TV   \n",
       "1  Another day, another bounty—such is the life o...  Movie   \n",
       "\n",
       "                       Producer       Studio  Rating  ScoredBy  Popularity  \\\n",
       "0             ['Bandai Visual']  ['Sunrise']    8.81  363889.0        39.0   \n",
       "1  ['Sunrise', 'Bandai Visual']    ['Bones']    8.41  111187.0       475.0   \n",
       "\n",
       "    Members  Episodes    Source                        Aired  \n",
       "0  704490.0      26.0  Original  Apr 3, 1998 to Apr 24, 1999  \n",
       "1  179899.0       1.0  Original                  Sep 1, 2001  "
      ]
     },
     "execution_count": 14,
     "metadata": {},
     "output_type": "execute_result"
    }
   ],
   "source": [
    "df.head(2)"
   ]
  },
  {
   "cell_type": "code",
   "execution_count": 15,
   "metadata": {},
   "outputs": [
    {
     "name": "stdout",
     "output_type": "stream",
     "text": [
      "Genre          0\n",
      "Producer    5779\n",
      "Studio      5611\n",
      "dtype: int64\n"
     ]
    }
   ],
   "source": [
    "features = ['Genre','Producer', 'Studio']\n",
    "\n",
    "print(df[features].isnull().sum())"
   ]
  },
  {
   "cell_type": "code",
   "execution_count": 16,
   "metadata": {},
   "outputs": [],
   "source": [
    "df[features] = df[features].fillna('[' ']')"
   ]
  },
  {
   "cell_type": "code",
   "execution_count": 17,
   "metadata": {},
   "outputs": [],
   "source": [
    "from ast import literal_eval\n",
    "\n",
    "for feature in features:\n",
    "    df[feature] = df[feature].apply(literal_eval)"
   ]
  },
  {
   "cell_type": "code",
   "execution_count": 18,
   "metadata": {},
   "outputs": [
    {
     "data": {
      "text/plain": [
       "array(['TV', 'Movie', 'OVA', 'Special', 'ONA', 'Music', 'Unknown'],\n",
       "      dtype=object)"
      ]
     },
     "execution_count": 18,
     "metadata": {},
     "output_type": "execute_result"
    }
   ],
   "source": [
    "df.Type.unique()"
   ]
  },
  {
   "cell_type": "code",
   "execution_count": 19,
   "metadata": {},
   "outputs": [],
   "source": [
    "def clean_data(x):\n",
    "    if isinstance(x, list):\n",
    "        return [str.lower(i.replace(\" \",\"\")) for i in x]\n",
    "    \n",
    "    else:\n",
    "        if isinstance(x, str):\n",
    "            return str.lower(x.replace(\" \",\"\"))\n",
    "        else:\n",
    "            return \"\""
   ]
  },
  {
   "cell_type": "code",
   "execution_count": 20,
   "metadata": {},
   "outputs": [],
   "source": [
    "features = ['Genre','Producer', 'Studio', 'Type']\n",
    "\n",
    "for feature in features:\n",
    "    df[feature] = df[feature].apply(clean_data)"
   ]
  },
  {
   "cell_type": "code",
   "execution_count": 21,
   "metadata": {},
   "outputs": [
    {
     "data": {
      "text/html": [
       "<div>\n",
       "<style scoped>\n",
       "    .dataframe tbody tr th:only-of-type {\n",
       "        vertical-align: middle;\n",
       "    }\n",
       "\n",
       "    .dataframe tbody tr th {\n",
       "        vertical-align: top;\n",
       "    }\n",
       "\n",
       "    .dataframe thead th {\n",
       "        text-align: right;\n",
       "    }\n",
       "</style>\n",
       "<table border=\"1\" class=\"dataframe\">\n",
       "  <thead>\n",
       "    <tr style=\"text-align: right;\">\n",
       "      <th></th>\n",
       "      <th>Anime_id</th>\n",
       "      <th>Title</th>\n",
       "      <th>Genre</th>\n",
       "      <th>Synopsis</th>\n",
       "      <th>Type</th>\n",
       "      <th>Producer</th>\n",
       "      <th>Studio</th>\n",
       "      <th>Rating</th>\n",
       "      <th>ScoredBy</th>\n",
       "      <th>Popularity</th>\n",
       "      <th>Members</th>\n",
       "      <th>Episodes</th>\n",
       "      <th>Source</th>\n",
       "      <th>Aired</th>\n",
       "    </tr>\n",
       "  </thead>\n",
       "  <tbody>\n",
       "    <tr>\n",
       "      <th>0</th>\n",
       "      <td>1</td>\n",
       "      <td>Cowboy Bebop</td>\n",
       "      <td>[action, adventure, comedy, drama, sci-fi, space]</td>\n",
       "      <td>In the year 2071, humanity has colonized sever...</td>\n",
       "      <td>tv</td>\n",
       "      <td>[bandaivisual]</td>\n",
       "      <td>[sunrise]</td>\n",
       "      <td>8.81</td>\n",
       "      <td>363889.0</td>\n",
       "      <td>39.0</td>\n",
       "      <td>704490.0</td>\n",
       "      <td>26.0</td>\n",
       "      <td>Original</td>\n",
       "      <td>Apr 3, 1998 to Apr 24, 1999</td>\n",
       "    </tr>\n",
       "    <tr>\n",
       "      <th>1</th>\n",
       "      <td>5</td>\n",
       "      <td>Cowboy Bebop Tengoku no Tobira</td>\n",
       "      <td>[action, space, drama, mystery, sci-fi]</td>\n",
       "      <td>Another day, another bounty—such is the life o...</td>\n",
       "      <td>movie</td>\n",
       "      <td>[sunrise, bandaivisual]</td>\n",
       "      <td>[bones]</td>\n",
       "      <td>8.41</td>\n",
       "      <td>111187.0</td>\n",
       "      <td>475.0</td>\n",
       "      <td>179899.0</td>\n",
       "      <td>1.0</td>\n",
       "      <td>Original</td>\n",
       "      <td>Sep 1, 2001</td>\n",
       "    </tr>\n",
       "  </tbody>\n",
       "</table>\n",
       "</div>"
      ],
      "text/plain": [
       "   Anime_id                           Title  \\\n",
       "0         1                    Cowboy Bebop   \n",
       "1         5  Cowboy Bebop Tengoku no Tobira   \n",
       "\n",
       "                                               Genre  \\\n",
       "0  [action, adventure, comedy, drama, sci-fi, space]   \n",
       "1            [action, space, drama, mystery, sci-fi]   \n",
       "\n",
       "                                            Synopsis   Type  \\\n",
       "0  In the year 2071, humanity has colonized sever...     tv   \n",
       "1  Another day, another bounty—such is the life o...  movie   \n",
       "\n",
       "                  Producer     Studio  Rating  ScoredBy  Popularity   Members  \\\n",
       "0           [bandaivisual]  [sunrise]    8.81  363889.0        39.0  704490.0   \n",
       "1  [sunrise, bandaivisual]    [bones]    8.41  111187.0       475.0  179899.0   \n",
       "\n",
       "   Episodes    Source                        Aired  \n",
       "0      26.0  Original  Apr 3, 1998 to Apr 24, 1999  \n",
       "1       1.0  Original                  Sep 1, 2001  "
      ]
     },
     "execution_count": 21,
     "metadata": {},
     "output_type": "execute_result"
    }
   ],
   "source": [
    "df.head(2)"
   ]
  },
  {
   "cell_type": "code",
   "execution_count": 22,
   "metadata": {},
   "outputs": [
    {
     "data": {
      "text/plain": [
       "['Genre', 'Producer', 'Studio', 'Type']"
      ]
     },
     "execution_count": 22,
     "metadata": {},
     "output_type": "execute_result"
    }
   ],
   "source": [
    "features"
   ]
  },
  {
   "cell_type": "code",
   "execution_count": 23,
   "metadata": {},
   "outputs": [],
   "source": [
    "def create_soup(x):\n",
    "    return \" \".join(x['Genre']) + \" \" + x['Type'] + \" \" + \" \".join(x['Producer']) + \" \" + \" \".join(x['Studio']) + \" \" + x['Synopsis'] + \" \" + \" \".join(x['Studio']) "
   ]
  },
  {
   "cell_type": "code",
   "execution_count": 24,
   "metadata": {},
   "outputs": [],
   "source": [
    "df['soup'] = df.apply(create_soup, axis=1)"
   ]
  },
  {
   "cell_type": "code",
   "execution_count": 25,
   "metadata": {},
   "outputs": [
    {
     "data": {
      "text/plain": [
       "0        action adventure comedy drama sci-fi space tv ...\n",
       "1        action space drama mystery sci-fi movie sunris...\n",
       "2        action sci-fi adventure comedy drama shounen t...\n",
       "3        action magic police supernatural drama mystery...\n",
       "4        adventure fantasy shounen supernatural tv  toe...\n",
       "                               ...                        \n",
       "12974    kids mecha ona   A promotional video for the n...\n",
       "12975    comedy ecchi fantasy game music music   Bundle...\n",
       "12976    action adventure fantasy sci-fi space movie   ...\n",
       "12977    kids music music   Akai Hana Shiroi Hana  was ...\n",
       "12978    kids music music   Of a pair of shoes, the lef...\n",
       "Name: soup, Length: 12979, dtype: object"
      ]
     },
     "execution_count": 25,
     "metadata": {},
     "output_type": "execute_result"
    }
   ],
   "source": [
    "df['soup']"
   ]
  },
  {
   "cell_type": "markdown",
   "metadata": {},
   "source": [
    "The next steps are the same as what we did with our plot description based recommender. One important difference is that we use the CountVectorizer() instead of TF-IDF. This is because we do not want to down-weight the presence of an producer if he or she has acted or directed in relatively more movies. It doesn't make much intuitive sense."
   ]
  },
  {
   "cell_type": "code",
   "execution_count": 26,
   "metadata": {},
   "outputs": [],
   "source": [
    "from sklearn.feature_extraction.text import CountVectorizer\n",
    "\n",
    "count = CountVectorizer(stop_words='english')\n",
    "count_matrix = count.fit_transform(df['soup'])\n",
    "\n",
    "from sklearn.metrics.pairwise import cosine_similarity\n",
    "\n",
    "cosine_sim2 = cosine_similarity(count_matrix, count_matrix)"
   ]
  },
  {
   "cell_type": "code",
   "execution_count": 27,
   "metadata": {},
   "outputs": [],
   "source": [
    "df = df.reset_index()\n",
    "indices = pd.Series(df.index, index=df['Title'])"
   ]
  },
  {
   "cell_type": "code",
   "execution_count": 28,
   "metadata": {},
   "outputs": [
    {
     "data": {
      "text/plain": [
       "Title\n",
       "Cowboy Bebop                            0\n",
       "Cowboy Bebop Tengoku no Tobira          1\n",
       "Trigun                                  2\n",
       "Witch Hunter Robin                      3\n",
       "Bouken Ou Beet                          4\n",
       "                                    ...  \n",
       "Animagear                           12974\n",
       "Magical Halloween MiracleQuartet    12975\n",
       "Orbital Era                         12976\n",
       "Akai Hana Shiroi Hana               12977\n",
       "Arui Tekoteko                       12978\n",
       "Length: 12979, dtype: int64"
      ]
     },
     "execution_count": 28,
     "metadata": {},
     "output_type": "execute_result"
    }
   ],
   "source": [
    "indices"
   ]
  },
  {
   "cell_type": "code",
   "execution_count": 29,
   "metadata": {},
   "outputs": [
    {
     "data": {
      "text/plain": [
       "1                           Cowboy Bebop Tengoku no Tobira\n",
       "5488                                Planetes Picture Drama\n",
       "2268          Ginga Tetsudou Monogatari Eien e no Bunkiten\n",
       "4970                  Shin Mashin Eiyuuden Wataru Majinzan\n",
       "3226                                  Ginga Senpuu Braiger\n",
       "4089                   Sora wo Kakeru Shoujo Picture Drama\n",
       "979                              Seihou Tenshi Angel Links\n",
       "7542     Seihou Tenshi Angel Links Meifon no Special Ka...\n",
       "6253       Mashin Eiyuuden Wataru Soukaizan Eiyuu Densetsu\n",
       "10632            Mobile Suit Gundam Thunderbolt 2nd Season\n",
       "6718                                  Dagram vs RoundFacer\n",
       "1473               Dirty Pair no Ooshoubu Nolandia no Nazo\n",
       "3836                                     Space Cobra Pilot\n",
       "4428                    Wrestler Gundan Seisenshi Robin Jr\n",
       "5017                         Zero Tester Chikyuu wo Mamore\n",
       "Name: Title, dtype: object"
      ]
     },
     "execution_count": 29,
     "metadata": {},
     "output_type": "execute_result"
    }
   ],
   "source": [
    "get_recommendations('Cowboy Bebop', cosine_sim2)"
   ]
  },
  {
   "cell_type": "code",
   "execution_count": 30,
   "metadata": {},
   "outputs": [
    {
     "data": {
      "text/plain": [
       "740                                           Jyu Oh Sei\n",
       "11903                                     Mirai no Mirai\n",
       "9604                                        Shounen Maid\n",
       "10156                                Kushimitama Samurai\n",
       "4534                             Karigurashi no Arrietty\n",
       "2669                                      Hatenkou Yuugi\n",
       "7374     Kero Kero Keroppi no Yowamushiouji no Daibouken\n",
       "9583                                     Kemushi no Boro\n",
       "6438           Ashita Genki ni Nare Hanbun no Satsumaimo\n",
       "5299                                Da Yu Hai Tang Movie\n",
       "6115                      Majokko Shimai no Yoyo to Nene\n",
       "999               Fushigi no Umi no Nadia Original Movie\n",
       "6381                                                 Jib\n",
       "5113                                  Koguma no Korochan\n",
       "3124                                    Net Ghost Pipopa\n",
       "Name: Title, dtype: object"
      ]
     },
     "execution_count": 30,
     "metadata": {},
     "output_type": "execute_result"
    }
   ],
   "source": [
    "get_recommendations('Sen to Chihiro no Kamikakushi', cosine_sim2)"
   ]
  },
  {
   "cell_type": "code",
   "execution_count": 31,
   "metadata": {},
   "outputs": [
    {
     "data": {
      "text/plain": [
       "3478                             Umineko no Naku Koro ni\n",
       "3809                                   Suteneko Torachan\n",
       "2269                                       Umi no Triton\n",
       "4233                           Doubutsu Mura no Daisodou\n",
       "9493                    Tenchi Muyou Ryououki 4th Season\n",
       "11288                                        Yao Shen Ji\n",
       "5123                                               Oshin\n",
       "8323     Kyoukai no Kanata Movie 2 Ill Be Here  Miraihen\n",
       "6529                                         Golden Time\n",
       "6035                           Kono Sekai no Katasumi ni\n",
       "298                            Mama wa Shougaku 4 Nensei\n",
       "5766                        Ookami Kodomo no Ame to Yuki\n",
       "8395                                           Hand Soap\n",
       "6357                                 Dareka no Manazashi\n",
       "1498                                      Hadashi no Gen\n",
       "Name: Title, dtype: object"
      ]
     },
     "execution_count": 31,
     "metadata": {},
     "output_type": "execute_result"
    }
   ],
   "source": [
    "get_recommendations('Mirai no Mirai', cosine_sim2)"
   ]
  },
  {
   "cell_type": "code",
   "execution_count": 32,
   "metadata": {},
   "outputs": [
    {
     "data": {
      "text/html": [
       "<div>\n",
       "<style scoped>\n",
       "    .dataframe tbody tr th:only-of-type {\n",
       "        vertical-align: middle;\n",
       "    }\n",
       "\n",
       "    .dataframe tbody tr th {\n",
       "        vertical-align: top;\n",
       "    }\n",
       "\n",
       "    .dataframe thead th {\n",
       "        text-align: right;\n",
       "    }\n",
       "</style>\n",
       "<table border=\"1\" class=\"dataframe\">\n",
       "  <thead>\n",
       "    <tr style=\"text-align: right;\">\n",
       "      <th></th>\n",
       "      <th>Title</th>\n",
       "      <th>Rating</th>\n",
       "      <th>Producer</th>\n",
       "      <th>Studio</th>\n",
       "    </tr>\n",
       "  </thead>\n",
       "  <tbody>\n",
       "    <tr>\n",
       "      <th>178</th>\n",
       "      <td>Sen to Chihiro no Kamikakushi</td>\n",
       "      <td>8.92</td>\n",
       "      <td>[toho]</td>\n",
       "      <td>[studioghibli]</td>\n",
       "    </tr>\n",
       "  </tbody>\n",
       "</table>\n",
       "</div>"
      ],
      "text/plain": [
       "                             Title  Rating Producer          Studio\n",
       "178  Sen to Chihiro no Kamikakushi    8.92   [toho]  [studioghibli]"
      ]
     },
     "metadata": {},
     "output_type": "display_data"
    }
   ],
   "source": [
    "display(df[['Title', 'Rating', 'Producer', 'Studio']].loc[df['Title'] == 'Sen to Chihiro no Kamikakushi'])"
   ]
  },
  {
   "cell_type": "markdown",
   "metadata": {},
   "source": [
    "### (2) Collaborative filtering using k-Nearest Neighbors (kNN)"
   ]
  },
  {
   "cell_type": "code",
   "execution_count": 33,
   "metadata": {},
   "outputs": [
    {
     "name": "stdout",
     "output_type": "stream",
     "text": [
      "rating (shape): (7813737, 3)\n"
     ]
    },
    {
     "data": {
      "text/html": [
       "<div>\n",
       "<style scoped>\n",
       "    .dataframe tbody tr th:only-of-type {\n",
       "        vertical-align: middle;\n",
       "    }\n",
       "\n",
       "    .dataframe tbody tr th {\n",
       "        vertical-align: top;\n",
       "    }\n",
       "\n",
       "    .dataframe thead th {\n",
       "        text-align: right;\n",
       "    }\n",
       "</style>\n",
       "<table border=\"1\" class=\"dataframe\">\n",
       "  <thead>\n",
       "    <tr style=\"text-align: right;\">\n",
       "      <th></th>\n",
       "      <th>user_id</th>\n",
       "      <th>anime_id</th>\n",
       "      <th>rating</th>\n",
       "    </tr>\n",
       "  </thead>\n",
       "  <tbody>\n",
       "    <tr>\n",
       "      <th>0</th>\n",
       "      <td>1</td>\n",
       "      <td>20</td>\n",
       "      <td>-1</td>\n",
       "    </tr>\n",
       "    <tr>\n",
       "      <th>1</th>\n",
       "      <td>1</td>\n",
       "      <td>24</td>\n",
       "      <td>-1</td>\n",
       "    </tr>\n",
       "    <tr>\n",
       "      <th>2</th>\n",
       "      <td>1</td>\n",
       "      <td>79</td>\n",
       "      <td>-1</td>\n",
       "    </tr>\n",
       "    <tr>\n",
       "      <th>3</th>\n",
       "      <td>1</td>\n",
       "      <td>226</td>\n",
       "      <td>-1</td>\n",
       "    </tr>\n",
       "    <tr>\n",
       "      <th>4</th>\n",
       "      <td>1</td>\n",
       "      <td>241</td>\n",
       "      <td>-1</td>\n",
       "    </tr>\n",
       "  </tbody>\n",
       "</table>\n",
       "</div>"
      ],
      "text/plain": [
       "   user_id  anime_id  rating\n",
       "0        1        20      -1\n",
       "1        1        24      -1\n",
       "2        1        79      -1\n",
       "3        1       226      -1\n",
       "4        1       241      -1"
      ]
     },
     "execution_count": 33,
     "metadata": {},
     "output_type": "execute_result"
    }
   ],
   "source": [
    "rating = pd.read_csv('rating.csv', encoding='latin')\n",
    "\n",
    "print('rating (shape):', rating.shape)\n",
    "\n",
    "rating.head(5)"
   ]
  },
  {
   "cell_type": "code",
   "execution_count": 35,
   "metadata": {},
   "outputs": [
    {
     "name": "stdout",
     "output_type": "stream",
     "text": [
      "df (shape): (12979, 16)\n"
     ]
    },
    {
     "data": {
      "text/html": [
       "<div>\n",
       "<style scoped>\n",
       "    .dataframe tbody tr th:only-of-type {\n",
       "        vertical-align: middle;\n",
       "    }\n",
       "\n",
       "    .dataframe tbody tr th {\n",
       "        vertical-align: top;\n",
       "    }\n",
       "\n",
       "    .dataframe thead th {\n",
       "        text-align: right;\n",
       "    }\n",
       "</style>\n",
       "<table border=\"1\" class=\"dataframe\">\n",
       "  <thead>\n",
       "    <tr style=\"text-align: right;\">\n",
       "      <th></th>\n",
       "      <th>index</th>\n",
       "      <th>Anime_id</th>\n",
       "      <th>Title</th>\n",
       "      <th>Genre</th>\n",
       "      <th>Synopsis</th>\n",
       "      <th>Type</th>\n",
       "      <th>Producer</th>\n",
       "      <th>Studio</th>\n",
       "      <th>Rating</th>\n",
       "      <th>ScoredBy</th>\n",
       "      <th>Popularity</th>\n",
       "      <th>Members</th>\n",
       "      <th>Episodes</th>\n",
       "      <th>Source</th>\n",
       "      <th>Aired</th>\n",
       "      <th>soup</th>\n",
       "    </tr>\n",
       "  </thead>\n",
       "  <tbody>\n",
       "    <tr>\n",
       "      <th>0</th>\n",
       "      <td>0</td>\n",
       "      <td>1</td>\n",
       "      <td>Cowboy Bebop</td>\n",
       "      <td>[action, adventure, comedy, drama, sci-fi, space]</td>\n",
       "      <td>In the year 2071, humanity has colonized sever...</td>\n",
       "      <td>tv</td>\n",
       "      <td>[bandaivisual]</td>\n",
       "      <td>[sunrise]</td>\n",
       "      <td>8.81</td>\n",
       "      <td>363889.0</td>\n",
       "      <td>39.0</td>\n",
       "      <td>704490.0</td>\n",
       "      <td>26.0</td>\n",
       "      <td>Original</td>\n",
       "      <td>Apr 3, 1998 to Apr 24, 1999</td>\n",
       "      <td>action adventure comedy drama sci-fi space tv ...</td>\n",
       "    </tr>\n",
       "    <tr>\n",
       "      <th>1</th>\n",
       "      <td>1</td>\n",
       "      <td>5</td>\n",
       "      <td>Cowboy Bebop Tengoku no Tobira</td>\n",
       "      <td>[action, space, drama, mystery, sci-fi]</td>\n",
       "      <td>Another day, another bounty—such is the life o...</td>\n",
       "      <td>movie</td>\n",
       "      <td>[sunrise, bandaivisual]</td>\n",
       "      <td>[bones]</td>\n",
       "      <td>8.41</td>\n",
       "      <td>111187.0</td>\n",
       "      <td>475.0</td>\n",
       "      <td>179899.0</td>\n",
       "      <td>1.0</td>\n",
       "      <td>Original</td>\n",
       "      <td>Sep 1, 2001</td>\n",
       "      <td>action space drama mystery sci-fi movie sunris...</td>\n",
       "    </tr>\n",
       "  </tbody>\n",
       "</table>\n",
       "</div>"
      ],
      "text/plain": [
       "   index  Anime_id                           Title  \\\n",
       "0      0         1                    Cowboy Bebop   \n",
       "1      1         5  Cowboy Bebop Tengoku no Tobira   \n",
       "\n",
       "                                               Genre  \\\n",
       "0  [action, adventure, comedy, drama, sci-fi, space]   \n",
       "1            [action, space, drama, mystery, sci-fi]   \n",
       "\n",
       "                                            Synopsis   Type  \\\n",
       "0  In the year 2071, humanity has colonized sever...     tv   \n",
       "1  Another day, another bounty—such is the life o...  movie   \n",
       "\n",
       "                  Producer     Studio  Rating  ScoredBy  Popularity   Members  \\\n",
       "0           [bandaivisual]  [sunrise]    8.81  363889.0        39.0  704490.0   \n",
       "1  [sunrise, bandaivisual]    [bones]    8.41  111187.0       475.0  179899.0   \n",
       "\n",
       "   Episodes    Source                        Aired  \\\n",
       "0      26.0  Original  Apr 3, 1998 to Apr 24, 1999   \n",
       "1       1.0  Original                  Sep 1, 2001   \n",
       "\n",
       "                                                soup  \n",
       "0  action adventure comedy drama sci-fi space tv ...  \n",
       "1  action space drama mystery sci-fi movie sunris...  "
      ]
     },
     "execution_count": 35,
     "metadata": {},
     "output_type": "execute_result"
    }
   ],
   "source": [
    "print('df (shape):', df.shape)\n",
    "\n",
    "df.head(2)"
   ]
  },
  {
   "cell_type": "code",
   "execution_count": 36,
   "metadata": {},
   "outputs": [
    {
     "data": {
      "text/plain": [
       "index         0\n",
       "Anime_id      0\n",
       "Title         1\n",
       "Genre         0\n",
       "Synopsis      0\n",
       "Type          0\n",
       "Producer      0\n",
       "Studio        0\n",
       "Rating        0\n",
       "ScoredBy      0\n",
       "Popularity    0\n",
       "Members       0\n",
       "Episodes      0\n",
       "Source        0\n",
       "Aired         0\n",
       "soup          0\n",
       "dtype: int64"
      ]
     },
     "execution_count": 36,
     "metadata": {},
     "output_type": "execute_result"
    }
   ],
   "source": [
    "rating.columns = ['User_id', 'Anime_id', 'Rating']\n",
    "\n",
    "df.isnull().sum()"
   ]
  },
  {
   "cell_type": "markdown",
   "metadata": {},
   "source": [
    "Remove anime with low count of ratings and users who gave low count of ratings"
   ]
  },
  {
   "cell_type": "code",
   "execution_count": 37,
   "metadata": {},
   "outputs": [
    {
     "data": {
      "text/html": [
       "<div>\n",
       "<style scoped>\n",
       "    .dataframe tbody tr th:only-of-type {\n",
       "        vertical-align: middle;\n",
       "    }\n",
       "\n",
       "    .dataframe tbody tr th {\n",
       "        vertical-align: top;\n",
       "    }\n",
       "\n",
       "    .dataframe thead th {\n",
       "        text-align: right;\n",
       "    }\n",
       "</style>\n",
       "<table border=\"1\" class=\"dataframe\">\n",
       "  <thead>\n",
       "    <tr style=\"text-align: right;\">\n",
       "      <th></th>\n",
       "      <th>Anime_id</th>\n",
       "      <th>Rating_count</th>\n",
       "    </tr>\n",
       "  </thead>\n",
       "  <tbody>\n",
       "    <tr>\n",
       "      <th>0</th>\n",
       "      <td>1</td>\n",
       "      <td>15509</td>\n",
       "    </tr>\n",
       "    <tr>\n",
       "      <th>1</th>\n",
       "      <td>5</td>\n",
       "      <td>6927</td>\n",
       "    </tr>\n",
       "    <tr>\n",
       "      <th>2</th>\n",
       "      <td>6</td>\n",
       "      <td>11077</td>\n",
       "    </tr>\n",
       "    <tr>\n",
       "      <th>3</th>\n",
       "      <td>7</td>\n",
       "      <td>2629</td>\n",
       "    </tr>\n",
       "    <tr>\n",
       "      <th>4</th>\n",
       "      <td>8</td>\n",
       "      <td>413</td>\n",
       "    </tr>\n",
       "    <tr>\n",
       "      <th>...</th>\n",
       "      <td>...</td>\n",
       "      <td>...</td>\n",
       "    </tr>\n",
       "    <tr>\n",
       "      <th>11195</th>\n",
       "      <td>34367</td>\n",
       "      <td>5</td>\n",
       "    </tr>\n",
       "    <tr>\n",
       "      <th>11196</th>\n",
       "      <td>34412</td>\n",
       "      <td>1</td>\n",
       "    </tr>\n",
       "    <tr>\n",
       "      <th>11197</th>\n",
       "      <td>34475</td>\n",
       "      <td>4</td>\n",
       "    </tr>\n",
       "    <tr>\n",
       "      <th>11198</th>\n",
       "      <td>34476</td>\n",
       "      <td>1</td>\n",
       "    </tr>\n",
       "    <tr>\n",
       "      <th>11199</th>\n",
       "      <td>34519</td>\n",
       "      <td>1</td>\n",
       "    </tr>\n",
       "  </tbody>\n",
       "</table>\n",
       "<p>11200 rows × 2 columns</p>\n",
       "</div>"
      ],
      "text/plain": [
       "       Anime_id  Rating_count\n",
       "0             1         15509\n",
       "1             5          6927\n",
       "2             6         11077\n",
       "3             7          2629\n",
       "4             8           413\n",
       "...         ...           ...\n",
       "11195     34367             5\n",
       "11196     34412             1\n",
       "11197     34475             4\n",
       "11198     34476             1\n",
       "11199     34519             1\n",
       "\n",
       "[11200 rows x 2 columns]"
      ]
     },
     "execution_count": 37,
     "metadata": {},
     "output_type": "execute_result"
    }
   ],
   "source": [
    "anime_rating = rating.groupby(by = 'Anime_id').count()\n",
    "anime_rating = anime_rating['Rating'].reset_index().rename(columns={'Rating':'Rating_count'})\n",
    "anime_rating"
   ]
  },
  {
   "cell_type": "code",
   "execution_count": 38,
   "metadata": {},
   "outputs": [
    {
     "data": {
      "text/plain": [
       "count    11200.000000\n",
       "mean       697.655089\n",
       "std       2028.627749\n",
       "min          1.000000\n",
       "25%          5.000000\n",
       "50%         51.500000\n",
       "75%        385.250000\n",
       "max      39340.000000\n",
       "Name: Rating_count, dtype: float64"
      ]
     },
     "execution_count": 38,
     "metadata": {},
     "output_type": "execute_result"
    }
   ],
   "source": [
    "anime_rating['Rating_count'].describe()"
   ]
  },
  {
   "cell_type": "code",
   "execution_count": 39,
   "metadata": {},
   "outputs": [
    {
     "data": {
      "text/plain": [
       "(5625, 2)"
      ]
     },
     "execution_count": 39,
     "metadata": {},
     "output_type": "execute_result"
    }
   ],
   "source": [
    "final_anime = anime_rating[anime_rating['Rating_count']>50]\n",
    "final_anime.shape"
   ]
  },
  {
   "cell_type": "code",
   "execution_count": 40,
   "metadata": {},
   "outputs": [
    {
     "data": {
      "text/html": [
       "<div>\n",
       "<style scoped>\n",
       "    .dataframe tbody tr th:only-of-type {\n",
       "        vertical-align: middle;\n",
       "    }\n",
       "\n",
       "    .dataframe tbody tr th {\n",
       "        vertical-align: top;\n",
       "    }\n",
       "\n",
       "    .dataframe thead th {\n",
       "        text-align: right;\n",
       "    }\n",
       "</style>\n",
       "<table border=\"1\" class=\"dataframe\">\n",
       "  <thead>\n",
       "    <tr style=\"text-align: right;\">\n",
       "      <th></th>\n",
       "      <th>User_id</th>\n",
       "      <th>Rating_count</th>\n",
       "    </tr>\n",
       "  </thead>\n",
       "  <tbody>\n",
       "    <tr>\n",
       "      <th>0</th>\n",
       "      <td>1</td>\n",
       "      <td>153</td>\n",
       "    </tr>\n",
       "    <tr>\n",
       "      <th>1</th>\n",
       "      <td>2</td>\n",
       "      <td>3</td>\n",
       "    </tr>\n",
       "    <tr>\n",
       "      <th>2</th>\n",
       "      <td>3</td>\n",
       "      <td>94</td>\n",
       "    </tr>\n",
       "    <tr>\n",
       "      <th>3</th>\n",
       "      <td>4</td>\n",
       "      <td>52</td>\n",
       "    </tr>\n",
       "    <tr>\n",
       "      <th>4</th>\n",
       "      <td>5</td>\n",
       "      <td>467</td>\n",
       "    </tr>\n",
       "    <tr>\n",
       "      <th>...</th>\n",
       "      <td>...</td>\n",
       "      <td>...</td>\n",
       "    </tr>\n",
       "    <tr>\n",
       "      <th>73510</th>\n",
       "      <td>73512</td>\n",
       "      <td>13</td>\n",
       "    </tr>\n",
       "    <tr>\n",
       "      <th>73511</th>\n",
       "      <td>73513</td>\n",
       "      <td>33</td>\n",
       "    </tr>\n",
       "    <tr>\n",
       "      <th>73512</th>\n",
       "      <td>73514</td>\n",
       "      <td>1</td>\n",
       "    </tr>\n",
       "    <tr>\n",
       "      <th>73513</th>\n",
       "      <td>73515</td>\n",
       "      <td>196</td>\n",
       "    </tr>\n",
       "    <tr>\n",
       "      <th>73514</th>\n",
       "      <td>73516</td>\n",
       "      <td>2</td>\n",
       "    </tr>\n",
       "  </tbody>\n",
       "</table>\n",
       "<p>73515 rows × 2 columns</p>\n",
       "</div>"
      ],
      "text/plain": [
       "       User_id  Rating_count\n",
       "0            1           153\n",
       "1            2             3\n",
       "2            3            94\n",
       "3            4            52\n",
       "4            5           467\n",
       "...        ...           ...\n",
       "73510    73512            13\n",
       "73511    73513            33\n",
       "73512    73514             1\n",
       "73513    73515           196\n",
       "73514    73516             2\n",
       "\n",
       "[73515 rows x 2 columns]"
      ]
     },
     "execution_count": 40,
     "metadata": {},
     "output_type": "execute_result"
    }
   ],
   "source": [
    "user_rating = rating.groupby(by='User_id').count()\n",
    "user_rating = user_rating['Rating'].reset_index().rename(columns={'Rating':'Rating_count'})\n",
    "user_rating"
   ]
  },
  {
   "cell_type": "code",
   "execution_count": 41,
   "metadata": {},
   "outputs": [
    {
     "data": {
      "text/plain": [
       "(29368, 2)"
      ]
     },
     "execution_count": 41,
     "metadata": {},
     "output_type": "execute_result"
    }
   ],
   "source": [
    "final_user = user_rating[user_rating['Rating_count']>80]\n",
    "final_user.shape"
   ]
  },
  {
   "cell_type": "markdown",
   "metadata": {},
   "source": [
    "Dataset with popular anime and high rating counts from users"
   ]
  },
  {
   "cell_type": "code",
   "execution_count": 42,
   "metadata": {},
   "outputs": [
    {
     "data": {
      "text/html": [
       "<div>\n",
       "<style scoped>\n",
       "    .dataframe tbody tr th:only-of-type {\n",
       "        vertical-align: middle;\n",
       "    }\n",
       "\n",
       "    .dataframe tbody tr th {\n",
       "        vertical-align: top;\n",
       "    }\n",
       "\n",
       "    .dataframe thead th {\n",
       "        text-align: right;\n",
       "    }\n",
       "</style>\n",
       "<table border=\"1\" class=\"dataframe\">\n",
       "  <thead>\n",
       "    <tr style=\"text-align: right;\">\n",
       "      <th></th>\n",
       "      <th>User_id</th>\n",
       "      <th>Anime_id</th>\n",
       "      <th>Rating</th>\n",
       "    </tr>\n",
       "  </thead>\n",
       "  <tbody>\n",
       "    <tr>\n",
       "      <th>0</th>\n",
       "      <td>1</td>\n",
       "      <td>20</td>\n",
       "      <td>-1</td>\n",
       "    </tr>\n",
       "    <tr>\n",
       "      <th>1</th>\n",
       "      <td>1</td>\n",
       "      <td>24</td>\n",
       "      <td>-1</td>\n",
       "    </tr>\n",
       "    <tr>\n",
       "      <th>2</th>\n",
       "      <td>1</td>\n",
       "      <td>79</td>\n",
       "      <td>-1</td>\n",
       "    </tr>\n",
       "    <tr>\n",
       "      <th>3</th>\n",
       "      <td>1</td>\n",
       "      <td>226</td>\n",
       "      <td>-1</td>\n",
       "    </tr>\n",
       "    <tr>\n",
       "      <th>4</th>\n",
       "      <td>1</td>\n",
       "      <td>241</td>\n",
       "      <td>-1</td>\n",
       "    </tr>\n",
       "  </tbody>\n",
       "</table>\n",
       "</div>"
      ],
      "text/plain": [
       "   User_id  Anime_id  Rating\n",
       "0        1        20      -1\n",
       "1        1        24      -1\n",
       "2        1        79      -1\n",
       "3        1       226      -1\n",
       "4        1       241      -1"
      ]
     },
     "execution_count": 42,
     "metadata": {},
     "output_type": "execute_result"
    }
   ],
   "source": [
    "final_anime_dt = rating[rating['Anime_id'].isin(final_anime['Anime_id'])]\n",
    "final_dt = final_anime_dt[final_anime_dt['User_id'].isin(final_user['User_id'])]\n",
    "final_dt.head()"
   ]
  },
  {
   "cell_type": "code",
   "execution_count": null,
   "metadata": {},
   "outputs": [],
   "source": []
  },
  {
   "cell_type": "code",
   "execution_count": null,
   "metadata": {},
   "outputs": [],
   "source": []
  },
  {
   "cell_type": "code",
   "execution_count": null,
   "metadata": {},
   "outputs": [],
   "source": []
  },
  {
   "cell_type": "markdown",
   "metadata": {},
   "source": [
    "### Construct Rating Matrix\n",
    "\n",
    "We will construct a matrix wherein Anime id will be indexes and User id in columns and then Convert rating matrix to csr matrix to save memory"
   ]
  },
  {
   "cell_type": "code",
   "execution_count": 43,
   "metadata": {},
   "outputs": [
    {
     "name": "stdout",
     "output_type": "stream",
     "text": [
      "(5625, 29368)\n"
     ]
    },
    {
     "data": {
      "text/html": [
       "<div>\n",
       "<style scoped>\n",
       "    .dataframe tbody tr th:only-of-type {\n",
       "        vertical-align: middle;\n",
       "    }\n",
       "\n",
       "    .dataframe tbody tr th {\n",
       "        vertical-align: top;\n",
       "    }\n",
       "\n",
       "    .dataframe thead th {\n",
       "        text-align: right;\n",
       "    }\n",
       "</style>\n",
       "<table border=\"1\" class=\"dataframe\">\n",
       "  <thead>\n",
       "    <tr style=\"text-align: right;\">\n",
       "      <th>User_id</th>\n",
       "      <th>1</th>\n",
       "      <th>3</th>\n",
       "      <th>5</th>\n",
       "      <th>7</th>\n",
       "      <th>11</th>\n",
       "      <th>13</th>\n",
       "      <th>14</th>\n",
       "      <th>17</th>\n",
       "      <th>21</th>\n",
       "      <th>29</th>\n",
       "      <th>...</th>\n",
       "      <th>73494</th>\n",
       "      <th>73495</th>\n",
       "      <th>73499</th>\n",
       "      <th>73500</th>\n",
       "      <th>73502</th>\n",
       "      <th>73503</th>\n",
       "      <th>73504</th>\n",
       "      <th>73507</th>\n",
       "      <th>73510</th>\n",
       "      <th>73515</th>\n",
       "    </tr>\n",
       "    <tr>\n",
       "      <th>Anime_id</th>\n",
       "      <th></th>\n",
       "      <th></th>\n",
       "      <th></th>\n",
       "      <th></th>\n",
       "      <th></th>\n",
       "      <th></th>\n",
       "      <th></th>\n",
       "      <th></th>\n",
       "      <th></th>\n",
       "      <th></th>\n",
       "      <th></th>\n",
       "      <th></th>\n",
       "      <th></th>\n",
       "      <th></th>\n",
       "      <th></th>\n",
       "      <th></th>\n",
       "      <th></th>\n",
       "      <th></th>\n",
       "      <th></th>\n",
       "      <th></th>\n",
       "      <th></th>\n",
       "    </tr>\n",
       "  </thead>\n",
       "  <tbody>\n",
       "    <tr>\n",
       "      <th>1</th>\n",
       "      <td>0.0</td>\n",
       "      <td>0.0</td>\n",
       "      <td>0.0</td>\n",
       "      <td>0.0</td>\n",
       "      <td>0.0</td>\n",
       "      <td>-1.0</td>\n",
       "      <td>0.0</td>\n",
       "      <td>0.0</td>\n",
       "      <td>9.0</td>\n",
       "      <td>0.0</td>\n",
       "      <td>...</td>\n",
       "      <td>0.0</td>\n",
       "      <td>10.0</td>\n",
       "      <td>9.0</td>\n",
       "      <td>0.0</td>\n",
       "      <td>0.0</td>\n",
       "      <td>9.0</td>\n",
       "      <td>10.0</td>\n",
       "      <td>9.0</td>\n",
       "      <td>0.0</td>\n",
       "      <td>10.0</td>\n",
       "    </tr>\n",
       "    <tr>\n",
       "      <th>5</th>\n",
       "      <td>0.0</td>\n",
       "      <td>0.0</td>\n",
       "      <td>0.0</td>\n",
       "      <td>0.0</td>\n",
       "      <td>0.0</td>\n",
       "      <td>-1.0</td>\n",
       "      <td>0.0</td>\n",
       "      <td>0.0</td>\n",
       "      <td>9.0</td>\n",
       "      <td>0.0</td>\n",
       "      <td>...</td>\n",
       "      <td>0.0</td>\n",
       "      <td>8.0</td>\n",
       "      <td>0.0</td>\n",
       "      <td>0.0</td>\n",
       "      <td>0.0</td>\n",
       "      <td>7.0</td>\n",
       "      <td>10.0</td>\n",
       "      <td>8.0</td>\n",
       "      <td>0.0</td>\n",
       "      <td>10.0</td>\n",
       "    </tr>\n",
       "    <tr>\n",
       "      <th>6</th>\n",
       "      <td>0.0</td>\n",
       "      <td>0.0</td>\n",
       "      <td>8.0</td>\n",
       "      <td>0.0</td>\n",
       "      <td>0.0</td>\n",
       "      <td>-1.0</td>\n",
       "      <td>0.0</td>\n",
       "      <td>7.0</td>\n",
       "      <td>0.0</td>\n",
       "      <td>0.0</td>\n",
       "      <td>...</td>\n",
       "      <td>9.0</td>\n",
       "      <td>-1.0</td>\n",
       "      <td>9.0</td>\n",
       "      <td>0.0</td>\n",
       "      <td>0.0</td>\n",
       "      <td>9.0</td>\n",
       "      <td>9.0</td>\n",
       "      <td>9.0</td>\n",
       "      <td>0.0</td>\n",
       "      <td>10.0</td>\n",
       "    </tr>\n",
       "    <tr>\n",
       "      <th>7</th>\n",
       "      <td>0.0</td>\n",
       "      <td>0.0</td>\n",
       "      <td>0.0</td>\n",
       "      <td>0.0</td>\n",
       "      <td>0.0</td>\n",
       "      <td>0.0</td>\n",
       "      <td>0.0</td>\n",
       "      <td>0.0</td>\n",
       "      <td>0.0</td>\n",
       "      <td>0.0</td>\n",
       "      <td>...</td>\n",
       "      <td>0.0</td>\n",
       "      <td>7.0</td>\n",
       "      <td>0.0</td>\n",
       "      <td>0.0</td>\n",
       "      <td>9.0</td>\n",
       "      <td>0.0</td>\n",
       "      <td>7.0</td>\n",
       "      <td>0.0</td>\n",
       "      <td>0.0</td>\n",
       "      <td>0.0</td>\n",
       "    </tr>\n",
       "    <tr>\n",
       "      <th>8</th>\n",
       "      <td>0.0</td>\n",
       "      <td>0.0</td>\n",
       "      <td>0.0</td>\n",
       "      <td>0.0</td>\n",
       "      <td>0.0</td>\n",
       "      <td>0.0</td>\n",
       "      <td>0.0</td>\n",
       "      <td>0.0</td>\n",
       "      <td>0.0</td>\n",
       "      <td>0.0</td>\n",
       "      <td>...</td>\n",
       "      <td>0.0</td>\n",
       "      <td>0.0</td>\n",
       "      <td>0.0</td>\n",
       "      <td>0.0</td>\n",
       "      <td>0.0</td>\n",
       "      <td>0.0</td>\n",
       "      <td>0.0</td>\n",
       "      <td>0.0</td>\n",
       "      <td>0.0</td>\n",
       "      <td>0.0</td>\n",
       "    </tr>\n",
       "  </tbody>\n",
       "</table>\n",
       "<p>5 rows × 29368 columns</p>\n",
       "</div>"
      ],
      "text/plain": [
       "User_id   1      3      5      7      11     13     14     17     21     \\\n",
       "Anime_id                                                                  \n",
       "1           0.0    0.0    0.0    0.0    0.0   -1.0    0.0    0.0    9.0   \n",
       "5           0.0    0.0    0.0    0.0    0.0   -1.0    0.0    0.0    9.0   \n",
       "6           0.0    0.0    8.0    0.0    0.0   -1.0    0.0    7.0    0.0   \n",
       "7           0.0    0.0    0.0    0.0    0.0    0.0    0.0    0.0    0.0   \n",
       "8           0.0    0.0    0.0    0.0    0.0    0.0    0.0    0.0    0.0   \n",
       "\n",
       "User_id   29     ...  73494  73495  73499  73500  73502  73503  73504  73507  \\\n",
       "Anime_id         ...                                                           \n",
       "1           0.0  ...    0.0   10.0    9.0    0.0    0.0    9.0   10.0    9.0   \n",
       "5           0.0  ...    0.0    8.0    0.0    0.0    0.0    7.0   10.0    8.0   \n",
       "6           0.0  ...    9.0   -1.0    9.0    0.0    0.0    9.0    9.0    9.0   \n",
       "7           0.0  ...    0.0    7.0    0.0    0.0    9.0    0.0    7.0    0.0   \n",
       "8           0.0  ...    0.0    0.0    0.0    0.0    0.0    0.0    0.0    0.0   \n",
       "\n",
       "User_id   73510  73515  \n",
       "Anime_id                \n",
       "1           0.0   10.0  \n",
       "5           0.0   10.0  \n",
       "6           0.0   10.0  \n",
       "7           0.0    0.0  \n",
       "8           0.0    0.0  \n",
       "\n",
       "[5 rows x 29368 columns]"
      ]
     },
     "execution_count": 43,
     "metadata": {},
     "output_type": "execute_result"
    }
   ],
   "source": [
    "rating_matrix = final_dt.pivot_table(index='Anime_id',columns='User_id',values='Rating').fillna(0)\n",
    "\n",
    "print(rating_matrix.shape)\n",
    "rating_matrix.head()"
   ]
  },
  {
   "cell_type": "code",
   "execution_count": 44,
   "metadata": {},
   "outputs": [
    {
     "name": "stdout",
     "output_type": "stream",
     "text": [
      "  (0, 5)\t-1.0\n",
      "  (0, 8)\t9.0\n",
      "  (0, 11)\t7.0\n",
      "  (0, 16)\t10.0\n",
      "  (0, 18)\t10.0\n",
      "  (0, 20)\t10.0\n",
      "  (0, 21)\t10.0\n",
      "  (0, 22)\t-1.0\n",
      "  (0, 29)\t10.0\n",
      "  (0, 30)\t8.0\n",
      "  (0, 46)\t9.0\n",
      "  (0, 49)\t10.0\n",
      "  (0, 53)\t10.0\n",
      "  (0, 56)\t9.0\n",
      "  (0, 57)\t8.0\n",
      "  (0, 60)\t7.0\n",
      "  (0, 63)\t7.0\n",
      "  (0, 65)\t8.0\n",
      "  (0, 69)\t10.0\n",
      "  (0, 71)\t9.0\n",
      "  (0, 72)\t8.0\n",
      "  (0, 73)\t10.0\n",
      "  (0, 76)\t9.0\n",
      "  (0, 77)\t8.0\n",
      "  (0, 78)\t9.0\n",
      "  :\t:\n",
      "  (5624, 28977)\t-1.0\n",
      "  (5624, 28992)\t10.0\n",
      "  (5624, 29022)\t-1.0\n",
      "  (5624, 29027)\t10.0\n",
      "  (5624, 29035)\t8.0\n",
      "  (5624, 29037)\t-1.0\n",
      "  (5624, 29049)\t8.0\n",
      "  (5624, 29073)\t-1.0\n",
      "  (5624, 29076)\t8.0\n",
      "  (5624, 29079)\t8.0\n",
      "  (5624, 29094)\t-1.0\n",
      "  (5624, 29104)\t9.0\n",
      "  (5624, 29114)\t8.0\n",
      "  (5624, 29128)\t7.0\n",
      "  (5624, 29129)\t8.0\n",
      "  (5624, 29131)\t-1.0\n",
      "  (5624, 29140)\t9.0\n",
      "  (5624, 29157)\t-1.0\n",
      "  (5624, 29215)\t8.0\n",
      "  (5624, 29221)\t-1.0\n",
      "  (5624, 29234)\t8.0\n",
      "  (5624, 29258)\t10.0\n",
      "  (5624, 29264)\t8.0\n",
      "  (5624, 29292)\t9.0\n",
      "  (5624, 29317)\t9.0\n"
     ]
    }
   ],
   "source": [
    "from scipy.sparse import csr_matrix\n",
    "csr_rating_matrix =  csr_matrix(rating_matrix.values)\n",
    "\n",
    "print(csr_rating_matrix)"
   ]
  },
  {
   "cell_type": "markdown",
   "metadata": {},
   "source": [
    "#### Fit the matrix into k-Nearest Neighbors (kNN)\n",
    "\n",
    "We decided to use cosine similarity as the metric for the algorithm"
   ]
  },
  {
   "cell_type": "code",
   "execution_count": 45,
   "metadata": {},
   "outputs": [
    {
     "data": {
      "text/html": [
       "<style>#sk-container-id-1 {color: black;background-color: white;}#sk-container-id-1 pre{padding: 0;}#sk-container-id-1 div.sk-toggleable {background-color: white;}#sk-container-id-1 label.sk-toggleable__label {cursor: pointer;display: block;width: 100%;margin-bottom: 0;padding: 0.3em;box-sizing: border-box;text-align: center;}#sk-container-id-1 label.sk-toggleable__label-arrow:before {content: \"▸\";float: left;margin-right: 0.25em;color: #696969;}#sk-container-id-1 label.sk-toggleable__label-arrow:hover:before {color: black;}#sk-container-id-1 div.sk-estimator:hover label.sk-toggleable__label-arrow:before {color: black;}#sk-container-id-1 div.sk-toggleable__content {max-height: 0;max-width: 0;overflow: hidden;text-align: left;background-color: #f0f8ff;}#sk-container-id-1 div.sk-toggleable__content pre {margin: 0.2em;color: black;border-radius: 0.25em;background-color: #f0f8ff;}#sk-container-id-1 input.sk-toggleable__control:checked~div.sk-toggleable__content {max-height: 200px;max-width: 100%;overflow: auto;}#sk-container-id-1 input.sk-toggleable__control:checked~label.sk-toggleable__label-arrow:before {content: \"▾\";}#sk-container-id-1 div.sk-estimator input.sk-toggleable__control:checked~label.sk-toggleable__label {background-color: #d4ebff;}#sk-container-id-1 div.sk-label input.sk-toggleable__control:checked~label.sk-toggleable__label {background-color: #d4ebff;}#sk-container-id-1 input.sk-hidden--visually {border: 0;clip: rect(1px 1px 1px 1px);clip: rect(1px, 1px, 1px, 1px);height: 1px;margin: -1px;overflow: hidden;padding: 0;position: absolute;width: 1px;}#sk-container-id-1 div.sk-estimator {font-family: monospace;background-color: #f0f8ff;border: 1px dotted black;border-radius: 0.25em;box-sizing: border-box;margin-bottom: 0.5em;}#sk-container-id-1 div.sk-estimator:hover {background-color: #d4ebff;}#sk-container-id-1 div.sk-parallel-item::after {content: \"\";width: 100%;border-bottom: 1px solid gray;flex-grow: 1;}#sk-container-id-1 div.sk-label:hover label.sk-toggleable__label {background-color: #d4ebff;}#sk-container-id-1 div.sk-serial::before {content: \"\";position: absolute;border-left: 1px solid gray;box-sizing: border-box;top: 0;bottom: 0;left: 50%;z-index: 0;}#sk-container-id-1 div.sk-serial {display: flex;flex-direction: column;align-items: center;background-color: white;padding-right: 0.2em;padding-left: 0.2em;position: relative;}#sk-container-id-1 div.sk-item {position: relative;z-index: 1;}#sk-container-id-1 div.sk-parallel {display: flex;align-items: stretch;justify-content: center;background-color: white;position: relative;}#sk-container-id-1 div.sk-item::before, #sk-container-id-1 div.sk-parallel-item::before {content: \"\";position: absolute;border-left: 1px solid gray;box-sizing: border-box;top: 0;bottom: 0;left: 50%;z-index: -1;}#sk-container-id-1 div.sk-parallel-item {display: flex;flex-direction: column;z-index: 1;position: relative;background-color: white;}#sk-container-id-1 div.sk-parallel-item:first-child::after {align-self: flex-end;width: 50%;}#sk-container-id-1 div.sk-parallel-item:last-child::after {align-self: flex-start;width: 50%;}#sk-container-id-1 div.sk-parallel-item:only-child::after {width: 0;}#sk-container-id-1 div.sk-dashed-wrapped {border: 1px dashed gray;margin: 0 0.4em 0.5em 0.4em;box-sizing: border-box;padding-bottom: 0.4em;background-color: white;}#sk-container-id-1 div.sk-label label {font-family: monospace;font-weight: bold;display: inline-block;line-height: 1.2em;}#sk-container-id-1 div.sk-label-container {text-align: center;}#sk-container-id-1 div.sk-container {/* jupyter's `normalize.less` sets `[hidden] { display: none; }` but bootstrap.min.css set `[hidden] { display: none !important; }` so we also need the `!important` here to be able to override the default hidden behavior on the sphinx rendered scikit-learn.org. See: https://github.com/scikit-learn/scikit-learn/issues/21755 */display: inline-block !important;position: relative;}#sk-container-id-1 div.sk-text-repr-fallback {display: none;}</style><div id=\"sk-container-id-1\" class=\"sk-top-container\"><div class=\"sk-text-repr-fallback\"><pre>NearestNeighbors(metric=&#x27;cosine&#x27;)</pre><b>In a Jupyter environment, please rerun this cell to show the HTML representation or trust the notebook. <br />On GitHub, the HTML representation is unable to render, please try loading this page with nbviewer.org.</b></div><div class=\"sk-container\" hidden><div class=\"sk-item\"><div class=\"sk-estimator sk-toggleable\"><input class=\"sk-toggleable__control sk-hidden--visually\" id=\"sk-estimator-id-1\" type=\"checkbox\" checked><label for=\"sk-estimator-id-1\" class=\"sk-toggleable__label sk-toggleable__label-arrow\">NearestNeighbors</label><div class=\"sk-toggleable__content\"><pre>NearestNeighbors(metric=&#x27;cosine&#x27;)</pre></div></div></div></div></div>"
      ],
      "text/plain": [
       "NearestNeighbors(metric='cosine')"
      ]
     },
     "execution_count": 45,
     "metadata": {},
     "output_type": "execute_result"
    }
   ],
   "source": [
    "from sklearn.neighbors import NearestNeighbors\n",
    "\n",
    "recommender = NearestNeighbors(metric='cosine')\n",
    "\n",
    "recommender.fit(csr_rating_matrix)"
   ]
  },
  {
   "cell_type": "code",
   "execution_count": 46,
   "metadata": {},
   "outputs": [
    {
     "data": {
      "text/html": [
       "<div>\n",
       "<style scoped>\n",
       "    .dataframe tbody tr th:only-of-type {\n",
       "        vertical-align: middle;\n",
       "    }\n",
       "\n",
       "    .dataframe tbody tr th {\n",
       "        vertical-align: top;\n",
       "    }\n",
       "\n",
       "    .dataframe thead th {\n",
       "        text-align: right;\n",
       "    }\n",
       "</style>\n",
       "<table border=\"1\" class=\"dataframe\">\n",
       "  <thead>\n",
       "    <tr style=\"text-align: right;\">\n",
       "      <th></th>\n",
       "      <th>index</th>\n",
       "      <th>Anime_id</th>\n",
       "      <th>Title</th>\n",
       "      <th>Genre</th>\n",
       "      <th>Synopsis</th>\n",
       "      <th>Type</th>\n",
       "      <th>Producer</th>\n",
       "      <th>Studio</th>\n",
       "      <th>Rating</th>\n",
       "      <th>ScoredBy</th>\n",
       "      <th>Popularity</th>\n",
       "      <th>Members</th>\n",
       "      <th>Episodes</th>\n",
       "      <th>Source</th>\n",
       "      <th>Aired</th>\n",
       "      <th>soup</th>\n",
       "    </tr>\n",
       "  </thead>\n",
       "  <tbody>\n",
       "    <tr>\n",
       "      <th>178</th>\n",
       "      <td>178</td>\n",
       "      <td>199</td>\n",
       "      <td>Sen to Chihiro no Kamikakushi</td>\n",
       "      <td>[adventure, supernatural, drama]</td>\n",
       "      <td>Stubborn, spoiled, and naïve, 10-year-old Chih...</td>\n",
       "      <td>movie</td>\n",
       "      <td>[toho]</td>\n",
       "      <td>[studioghibli]</td>\n",
       "      <td>8.92</td>\n",
       "      <td>496902.0</td>\n",
       "      <td>40.0</td>\n",
       "      <td>703229.0</td>\n",
       "      <td>1.0</td>\n",
       "      <td>Original</td>\n",
       "      <td>Jul 20, 2001</td>\n",
       "      <td>adventure supernatural drama movie toho studio...</td>\n",
       "    </tr>\n",
       "  </tbody>\n",
       "</table>\n",
       "</div>"
      ],
      "text/plain": [
       "     index  Anime_id                          Title  \\\n",
       "178    178       199  Sen to Chihiro no Kamikakushi   \n",
       "\n",
       "                                Genre  \\\n",
       "178  [adventure, supernatural, drama]   \n",
       "\n",
       "                                              Synopsis   Type Producer  \\\n",
       "178  Stubborn, spoiled, and naïve, 10-year-old Chih...  movie   [toho]   \n",
       "\n",
       "             Studio  Rating  ScoredBy  Popularity   Members  Episodes  \\\n",
       "178  [studioghibli]    8.92  496902.0        40.0  703229.0       1.0   \n",
       "\n",
       "       Source         Aired                                               soup  \n",
       "178  Original  Jul 20, 2001  adventure supernatural drama movie toho studio...  "
      ]
     },
     "execution_count": 46,
     "metadata": {},
     "output_type": "execute_result"
    }
   ],
   "source": [
    "user_anime = df[df['Title']=='Sen to Chihiro no Kamikakushi']\n",
    "user_anime"
   ]
  },
  {
   "cell_type": "code",
   "execution_count": 47,
   "metadata": {},
   "outputs": [],
   "source": [
    "import numpy as np"
   ]
  },
  {
   "cell_type": "code",
   "execution_count": 48,
   "metadata": {},
   "outputs": [
    {
     "name": "stdout",
     "output_type": "stream",
     "text": [
      "rating natrix index: 173\n"
     ]
    },
    {
     "data": {
      "text/plain": [
       "User_id\n",
       "1         0.0\n",
       "3        10.0\n",
       "5         8.0\n",
       "7         0.0\n",
       "11       10.0\n",
       "         ... \n",
       "73503     8.0\n",
       "73504     8.0\n",
       "73507    10.0\n",
       "73510    -1.0\n",
       "73515     0.0\n",
       "Name: 199, Length: 29368, dtype: float64"
      ]
     },
     "execution_count": 48,
     "metadata": {},
     "output_type": "execute_result"
    }
   ],
   "source": [
    "user_anime_index = np.where(rating_matrix.index==int(user_anime['Anime_id']))[0][0]\n",
    "\n",
    "# this index is from rating matrix not from the anime dataset!\n",
    "\n",
    "print('rating natrix index:', user_anime_index)\n",
    "\n",
    "# getting the ratings based on the index\n",
    "\n",
    "user_anime_ratings = rating_matrix.iloc[user_anime_index]\n",
    "user_anime_ratings"
   ]
  },
  {
   "cell_type": "code",
   "execution_count": 50,
   "metadata": {},
   "outputs": [
    {
     "data": {
      "text/plain": [
       "array([[ 0., 10.,  8., ..., 10., -1.,  0.]])"
      ]
     },
     "execution_count": 50,
     "metadata": {},
     "output_type": "execute_result"
    }
   ],
   "source": [
    "#now we need to convert this into 2d array (with only 1 row)\n",
    "\n",
    "user_anime_ratings_reshaped = user_anime_ratings.values.reshape(1,-1)\n",
    "user_anime_ratings_reshaped"
   ]
  },
  {
   "cell_type": "code",
   "execution_count": 51,
   "metadata": {},
   "outputs": [
    {
     "name": "stdout",
     "output_type": "stream",
     "text": [
      "[[0.         0.26155118 0.30075682 0.35429596 0.41723165 0.41745461\n",
      "  0.45026117 0.45202544 0.47006025 0.47340618 0.47559998 0.47617122\n",
      "  0.48209854 0.48600216 0.48878719 0.49086589]]\n"
     ]
    }
   ],
   "source": [
    "# the ratings will be plotted and will return 11 indices and distances of nearest neighbors\n",
    "distances, indices = recommender.kneighbors(user_anime_ratings_reshaped,n_neighbors=16)\n",
    "\n",
    "print(distances)"
   ]
  },
  {
   "cell_type": "code",
   "execution_count": 52,
   "metadata": {},
   "outputs": [
    {
     "name": "stdout",
     "output_type": "stream",
     "text": [
      "[[ 173  394  140  480 1316 1799  469  470 1431   98 1349  527  199  740\n",
      "    18 4444]]\n"
     ]
    }
   ],
   "source": [
    "print(indices)"
   ]
  },
  {
   "cell_type": "code",
   "execution_count": 53,
   "metadata": {},
   "outputs": [],
   "source": [
    "# the returned indices will be used to get anime id(index) on rating matrix, \n",
    "# excluding the first element since the first nearest neighbor is itself\n",
    "\n",
    "nearest_neighbors_indices = rating_matrix.iloc[indices[0]].index[1:]"
   ]
  },
  {
   "cell_type": "code",
   "execution_count": 55,
   "metadata": {
    "scrolled": false
   },
   "outputs": [
    {
     "data": {
      "text/html": [
       "<div>\n",
       "<style scoped>\n",
       "    .dataframe tbody tr th:only-of-type {\n",
       "        vertical-align: middle;\n",
       "    }\n",
       "\n",
       "    .dataframe tbody tr th {\n",
       "        vertical-align: top;\n",
       "    }\n",
       "\n",
       "    .dataframe thead th {\n",
       "        text-align: right;\n",
       "    }\n",
       "</style>\n",
       "<table border=\"1\" class=\"dataframe\">\n",
       "  <thead>\n",
       "    <tr style=\"text-align: right;\">\n",
       "      <th></th>\n",
       "      <th>Anime_id</th>\n",
       "      <th>index</th>\n",
       "      <th>Title</th>\n",
       "      <th>Genre</th>\n",
       "      <th>Synopsis</th>\n",
       "      <th>Type</th>\n",
       "      <th>Producer</th>\n",
       "      <th>Studio</th>\n",
       "      <th>Rating</th>\n",
       "      <th>ScoredBy</th>\n",
       "      <th>Popularity</th>\n",
       "      <th>Members</th>\n",
       "      <th>Episodes</th>\n",
       "      <th>Source</th>\n",
       "      <th>Aired</th>\n",
       "      <th>soup</th>\n",
       "    </tr>\n",
       "  </thead>\n",
       "  <tbody>\n",
       "    <tr>\n",
       "      <th>0</th>\n",
       "      <td>431</td>\n",
       "      <td>372.0</td>\n",
       "      <td>Howl no Ugoku Shiro</td>\n",
       "      <td>[adventure, drama, fantasy, romance]</td>\n",
       "      <td>That jumbled piece of architecture, that cacop...</td>\n",
       "      <td>movie</td>\n",
       "      <td>[d-rights, tokumashoten]</td>\n",
       "      <td>[studioghibli]</td>\n",
       "      <td>8.73</td>\n",
       "      <td>333104.0</td>\n",
       "      <td>88.0</td>\n",
       "      <td>479791.0</td>\n",
       "      <td>1.0</td>\n",
       "      <td>Novel</td>\n",
       "      <td>Nov 20, 2004</td>\n",
       "      <td>adventure drama fantasy romance movie d-rights...</td>\n",
       "    </tr>\n",
       "    <tr>\n",
       "      <th>1</th>\n",
       "      <td>164</td>\n",
       "      <td>144.0</td>\n",
       "      <td>Mononoke Hime</td>\n",
       "      <td>[action, adventure, fantasy]</td>\n",
       "      <td>When an Emishi village is attacked by a fierce...</td>\n",
       "      <td>movie</td>\n",
       "      <td>[tokumashoten, nippontelevisionnetwork]</td>\n",
       "      <td>[studioghibli]</td>\n",
       "      <td>8.80</td>\n",
       "      <td>332946.0</td>\n",
       "      <td>77.0</td>\n",
       "      <td>506368.0</td>\n",
       "      <td>1.0</td>\n",
       "      <td>Original</td>\n",
       "      <td>Jul 12, 1997</td>\n",
       "      <td>action adventure fantasy movie tokumashoten ni...</td>\n",
       "    </tr>\n",
       "    <tr>\n",
       "      <th>2</th>\n",
       "      <td>523</td>\n",
       "      <td>432.0</td>\n",
       "      <td>Tonari no Totoro</td>\n",
       "      <td>[adventure, comedy, supernatural]</td>\n",
       "      <td>In 1950s Japan, Tatsuo Kusakabe relocates hims...</td>\n",
       "      <td>movie</td>\n",
       "      <td>[studiofantasia]</td>\n",
       "      <td>[studioghibli]</td>\n",
       "      <td>8.45</td>\n",
       "      <td>261626.0</td>\n",
       "      <td>120.0</td>\n",
       "      <td>403817.0</td>\n",
       "      <td>1.0</td>\n",
       "      <td>Original</td>\n",
       "      <td>Apr 16, 1988</td>\n",
       "      <td>adventure comedy supernatural movie studiofant...</td>\n",
       "    </tr>\n",
       "    <tr>\n",
       "      <th>3</th>\n",
       "      <td>1535</td>\n",
       "      <td>1239.0</td>\n",
       "      <td>Death Note</td>\n",
       "      <td>[mystery, police, psychological, supernatural,...</td>\n",
       "      <td>A shinigami, as a god of death, can kill any p...</td>\n",
       "      <td>tv</td>\n",
       "      <td>[vap, konami, ashiproduction, nippontelevision...</td>\n",
       "      <td>[madhouse]</td>\n",
       "      <td>8.67</td>\n",
       "      <td>1006242.0</td>\n",
       "      <td>1.0</td>\n",
       "      <td>1451708.0</td>\n",
       "      <td>37.0</td>\n",
       "      <td>Manga</td>\n",
       "      <td>Oct 4, 2006 to Jun 27, 2007</td>\n",
       "      <td>mystery police psychological supernatural thri...</td>\n",
       "    </tr>\n",
       "    <tr>\n",
       "      <th>4</th>\n",
       "      <td>2236</td>\n",
       "      <td>1865.0</td>\n",
       "      <td>Toki wo Kakeru Shoujo</td>\n",
       "      <td>[sci-fi, adventure, drama, romance]</td>\n",
       "      <td>Makoto Konno is in her last year of high schoo...</td>\n",
       "      <td>movie</td>\n",
       "      <td>[kadokawashoten, bandai, memory-tech, happinet...</td>\n",
       "      <td>[madhouse]</td>\n",
       "      <td>8.35</td>\n",
       "      <td>248870.0</td>\n",
       "      <td>130.0</td>\n",
       "      <td>410159.0</td>\n",
       "      <td>1.0</td>\n",
       "      <td>Novel</td>\n",
       "      <td>Jul 15, 2006</td>\n",
       "      <td>sci-fi adventure drama romance movie kadokawas...</td>\n",
       "    </tr>\n",
       "    <tr>\n",
       "      <th>5</th>\n",
       "      <td>512</td>\n",
       "      <td>425.0</td>\n",
       "      <td>Majo no Takkyuubin</td>\n",
       "      <td>[adventure, comedy, drama, magic, romance, fan...</td>\n",
       "      <td>Kiki, a 13-year-old witch-in-training, must sp...</td>\n",
       "      <td>movie</td>\n",
       "      <td>[]</td>\n",
       "      <td>[studioghibli, studiohibari]</td>\n",
       "      <td>8.29</td>\n",
       "      <td>139453.0</td>\n",
       "      <td>361.0</td>\n",
       "      <td>214986.0</td>\n",
       "      <td>1.0</td>\n",
       "      <td>Novel</td>\n",
       "      <td>Jul 29, 1989</td>\n",
       "      <td>adventure comedy drama magic romance fantasy m...</td>\n",
       "    </tr>\n",
       "    <tr>\n",
       "      <th>6</th>\n",
       "      <td>513</td>\n",
       "      <td>NaN</td>\n",
       "      <td>NaN</td>\n",
       "      <td>NaN</td>\n",
       "      <td>NaN</td>\n",
       "      <td>NaN</td>\n",
       "      <td>NaN</td>\n",
       "      <td>NaN</td>\n",
       "      <td>NaN</td>\n",
       "      <td>NaN</td>\n",
       "      <td>NaN</td>\n",
       "      <td>NaN</td>\n",
       "      <td>NaN</td>\n",
       "      <td>NaN</td>\n",
       "      <td>NaN</td>\n",
       "      <td>NaN</td>\n",
       "    </tr>\n",
       "    <tr>\n",
       "      <th>7</th>\n",
       "      <td>1689</td>\n",
       "      <td>1374.0</td>\n",
       "      <td>Byousoku 5 Centimeter</td>\n",
       "      <td>[drama, romance, sliceoflife]</td>\n",
       "      <td>Takaki Toono and Akari Shinohara, two very clo...</td>\n",
       "      <td>movie</td>\n",
       "      <td>[]</td>\n",
       "      <td>[comixwavefilms]</td>\n",
       "      <td>7.95</td>\n",
       "      <td>280263.0</td>\n",
       "      <td>108.0</td>\n",
       "      <td>456478.0</td>\n",
       "      <td>3.0</td>\n",
       "      <td>Original</td>\n",
       "      <td>Mar 3, 2007</td>\n",
       "      <td>drama romance sliceoflife movie  comixwavefilm...</td>\n",
       "    </tr>\n",
       "    <tr>\n",
       "      <th>8</th>\n",
       "      <td>121</td>\n",
       "      <td>101.0</td>\n",
       "      <td>Fullmetal Alchemist</td>\n",
       "      <td>[action, adventure, comedy, drama, fantasy, ma...</td>\n",
       "      <td>Edward Elric, a young, brilliant alchemist, ha...</td>\n",
       "      <td>tv</td>\n",
       "      <td>[aniplex, dentsu, squareenix, mainichibroadcas...</td>\n",
       "      <td>[bones]</td>\n",
       "      <td>8.29</td>\n",
       "      <td>490243.0</td>\n",
       "      <td>37.0</td>\n",
       "      <td>789593.0</td>\n",
       "      <td>51.0</td>\n",
       "      <td>Manga</td>\n",
       "      <td>Oct 4, 2003 to Oct 2, 2004</td>\n",
       "      <td>action adventure comedy drama fantasy magic mi...</td>\n",
       "    </tr>\n",
       "    <tr>\n",
       "      <th>9</th>\n",
       "      <td>1575</td>\n",
       "      <td>1274.0</td>\n",
       "      <td>Code Geass Hangyaku no Lelouch</td>\n",
       "      <td>[action, military, sci-fi, superpower, drama, ...</td>\n",
       "      <td>In the year 2010, the Holy Empire of Britannia...</td>\n",
       "      <td>tv</td>\n",
       "      <td>[bandaivisual, mainichibroadcastingsystem, ban...</td>\n",
       "      <td>[sunrise]</td>\n",
       "      <td>8.79</td>\n",
       "      <td>625466.0</td>\n",
       "      <td>11.0</td>\n",
       "      <td>983674.0</td>\n",
       "      <td>25.0</td>\n",
       "      <td>Original</td>\n",
       "      <td>Oct 6, 2006 to Jul 29, 2007</td>\n",
       "      <td>action military sci-fi superpower drama mecha ...</td>\n",
       "    </tr>\n",
       "    <tr>\n",
       "      <th>10</th>\n",
       "      <td>572</td>\n",
       "      <td>475.0</td>\n",
       "      <td>Kaze no Tani no Nausica</td>\n",
       "      <td>[adventure, fantasy]</td>\n",
       "      <td>A millennium has passed since the catastrophic...</td>\n",
       "      <td>movie</td>\n",
       "      <td>[topcraft]</td>\n",
       "      <td>[studioghibli, studiohibari]</td>\n",
       "      <td>8.47</td>\n",
       "      <td>118901.0</td>\n",
       "      <td>461.0</td>\n",
       "      <td>187773.0</td>\n",
       "      <td>1.0</td>\n",
       "      <td>Manga</td>\n",
       "      <td>Mar 11, 1984</td>\n",
       "      <td>adventure fantasy movie topcraft studioghibli ...</td>\n",
       "    </tr>\n",
       "    <tr>\n",
       "      <th>11</th>\n",
       "      <td>226</td>\n",
       "      <td>201.0</td>\n",
       "      <td>Elfen Lied</td>\n",
       "      <td>[action, horror, psychological, supernatural, ...</td>\n",
       "      <td>Lucy is a special breed of human referred to a...</td>\n",
       "      <td>tv</td>\n",
       "      <td>[vap, genco, a-line]</td>\n",
       "      <td>[arms]</td>\n",
       "      <td>7.76</td>\n",
       "      <td>513467.0</td>\n",
       "      <td>26.0</td>\n",
       "      <td>831141.0</td>\n",
       "      <td>13.0</td>\n",
       "      <td>Manga</td>\n",
       "      <td>Jul 25, 2004 to Oct 17, 2004</td>\n",
       "      <td>action horror psychological supernatural drama...</td>\n",
       "    </tr>\n",
       "    <tr>\n",
       "      <th>12</th>\n",
       "      <td>849</td>\n",
       "      <td>NaN</td>\n",
       "      <td>NaN</td>\n",
       "      <td>NaN</td>\n",
       "      <td>NaN</td>\n",
       "      <td>NaN</td>\n",
       "      <td>NaN</td>\n",
       "      <td>NaN</td>\n",
       "      <td>NaN</td>\n",
       "      <td>NaN</td>\n",
       "      <td>NaN</td>\n",
       "      <td>NaN</td>\n",
       "      <td>NaN</td>\n",
       "      <td>NaN</td>\n",
       "      <td>NaN</td>\n",
       "      <td>NaN</td>\n",
       "    </tr>\n",
       "    <tr>\n",
       "      <th>13</th>\n",
       "      <td>30</td>\n",
       "      <td>19.0</td>\n",
       "      <td>Neon Genesis Evangelion</td>\n",
       "      <td>[action, sci-fi, dementia, psychological, dram...</td>\n",
       "      <td>In the year 2015, the world stands on the brin...</td>\n",
       "      <td>tv</td>\n",
       "      <td>[tvtokyo, kadokawashoten, nihonadsystems, audi...</td>\n",
       "      <td>[gainax, tatsunokoproduction]</td>\n",
       "      <td>8.32</td>\n",
       "      <td>362916.0</td>\n",
       "      <td>49.0</td>\n",
       "      <td>638943.0</td>\n",
       "      <td>26.0</td>\n",
       "      <td>Original</td>\n",
       "      <td>Oct 4, 1995 to Mar 27, 1996</td>\n",
       "      <td>action sci-fi dementia psychological drama mec...</td>\n",
       "    </tr>\n",
       "    <tr>\n",
       "      <th>14</th>\n",
       "      <td>16498</td>\n",
       "      <td>6232.0</td>\n",
       "      <td>Shingeki no Kyojin</td>\n",
       "      <td>[action, military, mystery, superpower, drama,...</td>\n",
       "      <td>Centuries ago, mankind was slaughtered to near...</td>\n",
       "      <td>tv</td>\n",
       "      <td>[productioni.g, dentsu, mainichibroadcastingsy...</td>\n",
       "      <td>[witstudio]</td>\n",
       "      <td>8.49</td>\n",
       "      <td>936784.0</td>\n",
       "      <td>2.0</td>\n",
       "      <td>1340641.0</td>\n",
       "      <td>25.0</td>\n",
       "      <td>Manga</td>\n",
       "      <td>Apr 7, 2013 to Sep 29, 2013</td>\n",
       "      <td>action military mystery superpower drama fanta...</td>\n",
       "    </tr>\n",
       "  </tbody>\n",
       "</table>\n",
       "</div>"
      ],
      "text/plain": [
       "    Anime_id   index                           Title  \\\n",
       "0        431   372.0             Howl no Ugoku Shiro   \n",
       "1        164   144.0                   Mononoke Hime   \n",
       "2        523   432.0                Tonari no Totoro   \n",
       "3       1535  1239.0                      Death Note   \n",
       "4       2236  1865.0           Toki wo Kakeru Shoujo   \n",
       "5        512   425.0              Majo no Takkyuubin   \n",
       "6        513     NaN                             NaN   \n",
       "7       1689  1374.0           Byousoku 5 Centimeter   \n",
       "8        121   101.0             Fullmetal Alchemist   \n",
       "9       1575  1274.0  Code Geass Hangyaku no Lelouch   \n",
       "10       572   475.0         Kaze no Tani no Nausica   \n",
       "11       226   201.0                      Elfen Lied   \n",
       "12       849     NaN                             NaN   \n",
       "13        30    19.0         Neon Genesis Evangelion   \n",
       "14     16498  6232.0              Shingeki no Kyojin   \n",
       "\n",
       "                                                Genre  \\\n",
       "0                [adventure, drama, fantasy, romance]   \n",
       "1                        [action, adventure, fantasy]   \n",
       "2                   [adventure, comedy, supernatural]   \n",
       "3   [mystery, police, psychological, supernatural,...   \n",
       "4                 [sci-fi, adventure, drama, romance]   \n",
       "5   [adventure, comedy, drama, magic, romance, fan...   \n",
       "6                                                 NaN   \n",
       "7                       [drama, romance, sliceoflife]   \n",
       "8   [action, adventure, comedy, drama, fantasy, ma...   \n",
       "9   [action, military, sci-fi, superpower, drama, ...   \n",
       "10                               [adventure, fantasy]   \n",
       "11  [action, horror, psychological, supernatural, ...   \n",
       "12                                                NaN   \n",
       "13  [action, sci-fi, dementia, psychological, dram...   \n",
       "14  [action, military, mystery, superpower, drama,...   \n",
       "\n",
       "                                             Synopsis   Type  \\\n",
       "0   That jumbled piece of architecture, that cacop...  movie   \n",
       "1   When an Emishi village is attacked by a fierce...  movie   \n",
       "2   In 1950s Japan, Tatsuo Kusakabe relocates hims...  movie   \n",
       "3   A shinigami, as a god of death, can kill any p...     tv   \n",
       "4   Makoto Konno is in her last year of high schoo...  movie   \n",
       "5   Kiki, a 13-year-old witch-in-training, must sp...  movie   \n",
       "6                                                 NaN    NaN   \n",
       "7   Takaki Toono and Akari Shinohara, two very clo...  movie   \n",
       "8   Edward Elric, a young, brilliant alchemist, ha...     tv   \n",
       "9   In the year 2010, the Holy Empire of Britannia...     tv   \n",
       "10  A millennium has passed since the catastrophic...  movie   \n",
       "11  Lucy is a special breed of human referred to a...     tv   \n",
       "12                                                NaN    NaN   \n",
       "13  In the year 2015, the world stands on the brin...     tv   \n",
       "14  Centuries ago, mankind was slaughtered to near...     tv   \n",
       "\n",
       "                                             Producer  \\\n",
       "0                            [d-rights, tokumashoten]   \n",
       "1             [tokumashoten, nippontelevisionnetwork]   \n",
       "2                                    [studiofantasia]   \n",
       "3   [vap, konami, ashiproduction, nippontelevision...   \n",
       "4   [kadokawashoten, bandai, memory-tech, happinet...   \n",
       "5                                                  []   \n",
       "6                                                 NaN   \n",
       "7                                                  []   \n",
       "8   [aniplex, dentsu, squareenix, mainichibroadcas...   \n",
       "9   [bandaivisual, mainichibroadcastingsystem, ban...   \n",
       "10                                         [topcraft]   \n",
       "11                               [vap, genco, a-line]   \n",
       "12                                                NaN   \n",
       "13  [tvtokyo, kadokawashoten, nihonadsystems, audi...   \n",
       "14  [productioni.g, dentsu, mainichibroadcastingsy...   \n",
       "\n",
       "                           Studio  Rating   ScoredBy  Popularity    Members  \\\n",
       "0                  [studioghibli]    8.73   333104.0        88.0   479791.0   \n",
       "1                  [studioghibli]    8.80   332946.0        77.0   506368.0   \n",
       "2                  [studioghibli]    8.45   261626.0       120.0   403817.0   \n",
       "3                      [madhouse]    8.67  1006242.0         1.0  1451708.0   \n",
       "4                      [madhouse]    8.35   248870.0       130.0   410159.0   \n",
       "5    [studioghibli, studiohibari]    8.29   139453.0       361.0   214986.0   \n",
       "6                             NaN     NaN        NaN         NaN        NaN   \n",
       "7                [comixwavefilms]    7.95   280263.0       108.0   456478.0   \n",
       "8                         [bones]    8.29   490243.0        37.0   789593.0   \n",
       "9                       [sunrise]    8.79   625466.0        11.0   983674.0   \n",
       "10   [studioghibli, studiohibari]    8.47   118901.0       461.0   187773.0   \n",
       "11                         [arms]    7.76   513467.0        26.0   831141.0   \n",
       "12                            NaN     NaN        NaN         NaN        NaN   \n",
       "13  [gainax, tatsunokoproduction]    8.32   362916.0        49.0   638943.0   \n",
       "14                    [witstudio]    8.49   936784.0         2.0  1340641.0   \n",
       "\n",
       "    Episodes    Source                         Aired  \\\n",
       "0        1.0     Novel                  Nov 20, 2004   \n",
       "1        1.0  Original                  Jul 12, 1997   \n",
       "2        1.0  Original                  Apr 16, 1988   \n",
       "3       37.0     Manga   Oct 4, 2006 to Jun 27, 2007   \n",
       "4        1.0     Novel                  Jul 15, 2006   \n",
       "5        1.0     Novel                  Jul 29, 1989   \n",
       "6        NaN       NaN                           NaN   \n",
       "7        3.0  Original                   Mar 3, 2007   \n",
       "8       51.0     Manga    Oct 4, 2003 to Oct 2, 2004   \n",
       "9       25.0  Original   Oct 6, 2006 to Jul 29, 2007   \n",
       "10       1.0     Manga                  Mar 11, 1984   \n",
       "11      13.0     Manga  Jul 25, 2004 to Oct 17, 2004   \n",
       "12       NaN       NaN                           NaN   \n",
       "13      26.0  Original   Oct 4, 1995 to Mar 27, 1996   \n",
       "14      25.0     Manga   Apr 7, 2013 to Sep 29, 2013   \n",
       "\n",
       "                                                 soup  \n",
       "0   adventure drama fantasy romance movie d-rights...  \n",
       "1   action adventure fantasy movie tokumashoten ni...  \n",
       "2   adventure comedy supernatural movie studiofant...  \n",
       "3   mystery police psychological supernatural thri...  \n",
       "4   sci-fi adventure drama romance movie kadokawas...  \n",
       "5   adventure comedy drama magic romance fantasy m...  \n",
       "6                                                 NaN  \n",
       "7   drama romance sliceoflife movie  comixwavefilm...  \n",
       "8   action adventure comedy drama fantasy magic mi...  \n",
       "9   action military sci-fi superpower drama mecha ...  \n",
       "10  adventure fantasy movie topcraft studioghibli ...  \n",
       "11  action horror psychological supernatural drama...  \n",
       "12                                                NaN  \n",
       "13  action sci-fi dementia psychological drama mec...  \n",
       "14  action military mystery superpower drama fanta...  "
      ]
     },
     "execution_count": 55,
     "metadata": {},
     "output_type": "execute_result"
    }
   ],
   "source": [
    "nearest_neighbors = pd.DataFrame({'Anime_id': nearest_neighbors_indices})\n",
    "pd.merge(nearest_neighbors,df,on='Anime_id',how='left')"
   ]
  },
  {
   "cell_type": "code",
   "execution_count": null,
   "metadata": {},
   "outputs": [],
   "source": []
  },
  {
   "cell_type": "code",
   "execution_count": null,
   "metadata": {},
   "outputs": [],
   "source": []
  },
  {
   "cell_type": "code",
   "execution_count": null,
   "metadata": {},
   "outputs": [],
   "source": []
  }
 ],
 "metadata": {
  "kernelspec": {
   "display_name": "Python (learn-env)",
   "language": "python",
   "name": "learn-env"
  },
  "language_info": {
   "codemirror_mode": {
    "name": "ipython",
    "version": 3
   },
   "file_extension": ".py",
   "mimetype": "text/x-python",
   "name": "python",
   "nbconvert_exporter": "python",
   "pygments_lexer": "ipython3",
   "version": "3.9.12"
  }
 },
 "nbformat": 4,
 "nbformat_minor": 4
}
